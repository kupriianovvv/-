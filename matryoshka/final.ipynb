{
 "cells": [
  {
   "cell_type": "code",
   "execution_count": 1,
   "metadata": {},
   "outputs": [],
   "source": [
    "import pandas as pd\n",
    "import numpy as np\n",
    "import matplotlib.pyplot as plt\n",
    "import seaborn as sns\n",
    "from functools import reduce\n",
    "sns.set(rc={'figure.figsize':(20,8.27)})"
   ]
  },
  {
   "cell_type": "markdown",
   "metadata": {},
   "source": [
    "### 1.1 Приведем таблицу в более удобный вид"
   ]
  },
  {
   "cell_type": "code",
   "execution_count": 2,
   "metadata": {},
   "outputs": [],
   "source": [
    "unique_a = pd.read_excel('unique_a.xlsx')\n",
    "totals_a = pd.read_excel('totals_a.xlsx')\n",
    "totals_b = pd.read_excel('totals_b.xlsx')\n",
    "totals_c = pd.read_excel('totals_c.xlsx')\n",
    "totals_d = pd.read_excel('totals_d.xlsx')\n",
    "time = pd.read_excel('time.xlsx')"
   ]
  },
  {
   "cell_type": "code",
   "execution_count": 3,
   "metadata": {},
   "outputs": [
    {
     "data": {
      "text/html": [
       "<div>\n",
       "<style scoped>\n",
       "    .dataframe tbody tr th:only-of-type {\n",
       "        vertical-align: middle;\n",
       "    }\n",
       "\n",
       "    .dataframe tbody tr th {\n",
       "        vertical-align: top;\n",
       "    }\n",
       "\n",
       "    .dataframe thead th {\n",
       "        text-align: right;\n",
       "    }\n",
       "</style>\n",
       "<table border=\"1\" class=\"dataframe\">\n",
       "  <thead>\n",
       "    <tr style=\"text-align: right;\">\n",
       "      <th></th>\n",
       "      <th>formula</th>\n",
       "      <th>segment</th>\n",
       "      <th>level_number</th>\n",
       "      <th>2021-03-31 to 2021-06-29</th>\n",
       "    </tr>\n",
       "  </thead>\n",
       "  <tbody>\n",
       "    <tr>\n",
       "      <th>0</th>\n",
       "      <td>\\tFormula A: UNIQUES(A)</td>\n",
       "      <td>\\tCohort A</td>\n",
       "      <td>1</td>\n",
       "      <td>5057</td>\n",
       "    </tr>\n",
       "    <tr>\n",
       "      <th>1</th>\n",
       "      <td>\\tFormula A: UNIQUES(A)</td>\n",
       "      <td>\\tCohort A</td>\n",
       "      <td>2</td>\n",
       "      <td>4724</td>\n",
       "    </tr>\n",
       "    <tr>\n",
       "      <th>2</th>\n",
       "      <td>\\tFormula A: UNIQUES(A)</td>\n",
       "      <td>\\tCohort A</td>\n",
       "      <td>3</td>\n",
       "      <td>4363</td>\n",
       "    </tr>\n",
       "    <tr>\n",
       "      <th>3</th>\n",
       "      <td>\\tFormula A: UNIQUES(A)</td>\n",
       "      <td>\\tCohort A</td>\n",
       "      <td>4</td>\n",
       "      <td>3925</td>\n",
       "    </tr>\n",
       "    <tr>\n",
       "      <th>4</th>\n",
       "      <td>\\tFormula A: UNIQUES(A)</td>\n",
       "      <td>\\tCohort A</td>\n",
       "      <td>5</td>\n",
       "      <td>3590</td>\n",
       "    </tr>\n",
       "    <tr>\n",
       "      <th>...</th>\n",
       "      <td>...</td>\n",
       "      <td>...</td>\n",
       "      <td>...</td>\n",
       "      <td>...</td>\n",
       "    </tr>\n",
       "    <tr>\n",
       "      <th>235</th>\n",
       "      <td>\\tFormula A: UNIQUES(A)</td>\n",
       "      <td>\\tCohort B</td>\n",
       "      <td>111</td>\n",
       "      <td>340</td>\n",
       "    </tr>\n",
       "    <tr>\n",
       "      <th>236</th>\n",
       "      <td>\\tFormula A: UNIQUES(A)</td>\n",
       "      <td>\\tCohort B</td>\n",
       "      <td>118</td>\n",
       "      <td>316</td>\n",
       "    </tr>\n",
       "    <tr>\n",
       "      <th>237</th>\n",
       "      <td>\\tFormula A: UNIQUES(A)</td>\n",
       "      <td>\\tCohort B</td>\n",
       "      <td>119</td>\n",
       "      <td>313</td>\n",
       "    </tr>\n",
       "    <tr>\n",
       "      <th>238</th>\n",
       "      <td>\\tFormula A: UNIQUES(A)</td>\n",
       "      <td>\\tCohort B</td>\n",
       "      <td>116</td>\n",
       "      <td>320</td>\n",
       "    </tr>\n",
       "    <tr>\n",
       "      <th>239</th>\n",
       "      <td>\\tFormula A: UNIQUES(A)</td>\n",
       "      <td>\\tCohort B</td>\n",
       "      <td>117</td>\n",
       "      <td>318</td>\n",
       "    </tr>\n",
       "  </tbody>\n",
       "</table>\n",
       "<p>240 rows × 4 columns</p>\n",
       "</div>"
      ],
      "text/plain": [
       "                     formula     segment  level_number  \\\n",
       "0    \\tFormula A: UNIQUES(A)  \\tCohort A             1   \n",
       "1    \\tFormula A: UNIQUES(A)  \\tCohort A             2   \n",
       "2    \\tFormula A: UNIQUES(A)  \\tCohort A             3   \n",
       "3    \\tFormula A: UNIQUES(A)  \\tCohort A             4   \n",
       "4    \\tFormula A: UNIQUES(A)  \\tCohort A             5   \n",
       "..                       ...         ...           ...   \n",
       "235  \\tFormula A: UNIQUES(A)  \\tCohort B           111   \n",
       "236  \\tFormula A: UNIQUES(A)  \\tCohort B           118   \n",
       "237  \\tFormula A: UNIQUES(A)  \\tCohort B           119   \n",
       "238  \\tFormula A: UNIQUES(A)  \\tCohort B           116   \n",
       "239  \\tFormula A: UNIQUES(A)  \\tCohort B           117   \n",
       "\n",
       "     2021-03-31 to 2021-06-29  \n",
       "0                        5057  \n",
       "1                        4724  \n",
       "2                        4363  \n",
       "3                        3925  \n",
       "4                        3590  \n",
       "..                        ...  \n",
       "235                       340  \n",
       "236                       316  \n",
       "237                       313  \n",
       "238                       320  \n",
       "239                       318  \n",
       "\n",
       "[240 rows x 4 columns]"
      ]
     },
     "execution_count": 3,
     "metadata": {},
     "output_type": "execute_result"
    }
   ],
   "source": [
    "unique_a"
   ]
  },
  {
   "cell_type": "code",
   "execution_count": 4,
   "metadata": {},
   "outputs": [
    {
     "data": {
      "text/html": [
       "<div>\n",
       "<style scoped>\n",
       "    .dataframe tbody tr th:only-of-type {\n",
       "        vertical-align: middle;\n",
       "    }\n",
       "\n",
       "    .dataframe tbody tr th {\n",
       "        vertical-align: top;\n",
       "    }\n",
       "\n",
       "    .dataframe thead th {\n",
       "        text-align: right;\n",
       "    }\n",
       "</style>\n",
       "<table border=\"1\" class=\"dataframe\">\n",
       "  <thead>\n",
       "    <tr style=\"text-align: right;\">\n",
       "      <th></th>\n",
       "      <th>formula</th>\n",
       "      <th>segment</th>\n",
       "      <th>level_number</th>\n",
       "      <th>2021-03-31 to 2021-06-29</th>\n",
       "    </tr>\n",
       "  </thead>\n",
       "  <tbody>\n",
       "    <tr>\n",
       "      <th>0</th>\n",
       "      <td>\\tFormula B:  TOTALS(A)</td>\n",
       "      <td>\\tCohort A</td>\n",
       "      <td>1</td>\n",
       "      <td>5131</td>\n",
       "    </tr>\n",
       "    <tr>\n",
       "      <th>1</th>\n",
       "      <td>\\tFormula B:  TOTALS(A)</td>\n",
       "      <td>\\tCohort A</td>\n",
       "      <td>2</td>\n",
       "      <td>4759</td>\n",
       "    </tr>\n",
       "    <tr>\n",
       "      <th>2</th>\n",
       "      <td>\\tFormula B:  TOTALS(A)</td>\n",
       "      <td>\\tCohort A</td>\n",
       "      <td>3</td>\n",
       "      <td>4464</td>\n",
       "    </tr>\n",
       "    <tr>\n",
       "      <th>3</th>\n",
       "      <td>\\tFormula B:  TOTALS(A)</td>\n",
       "      <td>\\tCohort A</td>\n",
       "      <td>4</td>\n",
       "      <td>4011</td>\n",
       "    </tr>\n",
       "    <tr>\n",
       "      <th>4</th>\n",
       "      <td>\\tFormula B:  TOTALS(A)</td>\n",
       "      <td>\\tCohort A</td>\n",
       "      <td>5</td>\n",
       "      <td>3739</td>\n",
       "    </tr>\n",
       "    <tr>\n",
       "      <th>...</th>\n",
       "      <td>...</td>\n",
       "      <td>...</td>\n",
       "      <td>...</td>\n",
       "      <td>...</td>\n",
       "    </tr>\n",
       "    <tr>\n",
       "      <th>235</th>\n",
       "      <td>\\tFormula B:  TOTALS(A)</td>\n",
       "      <td>\\tCohort B</td>\n",
       "      <td>116</td>\n",
       "      <td>412</td>\n",
       "    </tr>\n",
       "    <tr>\n",
       "      <th>236</th>\n",
       "      <td>\\tFormula B:  TOTALS(A)</td>\n",
       "      <td>\\tCohort B</td>\n",
       "      <td>101</td>\n",
       "      <td>411</td>\n",
       "    </tr>\n",
       "    <tr>\n",
       "      <th>237</th>\n",
       "      <td>\\tFormula B:  TOTALS(A)</td>\n",
       "      <td>\\tCohort B</td>\n",
       "      <td>105</td>\n",
       "      <td>391</td>\n",
       "    </tr>\n",
       "    <tr>\n",
       "      <th>238</th>\n",
       "      <td>\\tFormula B:  TOTALS(A)</td>\n",
       "      <td>\\tCohort B</td>\n",
       "      <td>111</td>\n",
       "      <td>381</td>\n",
       "    </tr>\n",
       "    <tr>\n",
       "      <th>239</th>\n",
       "      <td>\\tFormula B:  TOTALS(A)</td>\n",
       "      <td>\\tCohort B</td>\n",
       "      <td>117</td>\n",
       "      <td>380</td>\n",
       "    </tr>\n",
       "  </tbody>\n",
       "</table>\n",
       "<p>240 rows × 4 columns</p>\n",
       "</div>"
      ],
      "text/plain": [
       "                     formula     segment  level_number  \\\n",
       "0    \\tFormula B:  TOTALS(A)  \\tCohort A             1   \n",
       "1    \\tFormula B:  TOTALS(A)  \\tCohort A             2   \n",
       "2    \\tFormula B:  TOTALS(A)  \\tCohort A             3   \n",
       "3    \\tFormula B:  TOTALS(A)  \\tCohort A             4   \n",
       "4    \\tFormula B:  TOTALS(A)  \\tCohort A             5   \n",
       "..                       ...         ...           ...   \n",
       "235  \\tFormula B:  TOTALS(A)  \\tCohort B           116   \n",
       "236  \\tFormula B:  TOTALS(A)  \\tCohort B           101   \n",
       "237  \\tFormula B:  TOTALS(A)  \\tCohort B           105   \n",
       "238  \\tFormula B:  TOTALS(A)  \\tCohort B           111   \n",
       "239  \\tFormula B:  TOTALS(A)  \\tCohort B           117   \n",
       "\n",
       "     2021-03-31 to 2021-06-29  \n",
       "0                        5131  \n",
       "1                        4759  \n",
       "2                        4464  \n",
       "3                        4011  \n",
       "4                        3739  \n",
       "..                        ...  \n",
       "235                       412  \n",
       "236                       411  \n",
       "237                       391  \n",
       "238                       381  \n",
       "239                       380  \n",
       "\n",
       "[240 rows x 4 columns]"
      ]
     },
     "execution_count": 4,
     "metadata": {},
     "output_type": "execute_result"
    }
   ],
   "source": [
    "totals_a"
   ]
  },
  {
   "cell_type": "code",
   "execution_count": 5,
   "metadata": {},
   "outputs": [
    {
     "data": {
      "text/html": [
       "<div>\n",
       "<style scoped>\n",
       "    .dataframe tbody tr th:only-of-type {\n",
       "        vertical-align: middle;\n",
       "    }\n",
       "\n",
       "    .dataframe tbody tr th {\n",
       "        vertical-align: top;\n",
       "    }\n",
       "\n",
       "    .dataframe thead th {\n",
       "        text-align: right;\n",
       "    }\n",
       "</style>\n",
       "<table border=\"1\" class=\"dataframe\">\n",
       "  <thead>\n",
       "    <tr style=\"text-align: right;\">\n",
       "      <th></th>\n",
       "      <th>formula</th>\n",
       "      <th>segment</th>\n",
       "      <th>level_number</th>\n",
       "      <th>2021-03-31 to 2021-06-29</th>\n",
       "    </tr>\n",
       "  </thead>\n",
       "  <tbody>\n",
       "    <tr>\n",
       "      <th>0</th>\n",
       "      <td>\\tFormula C:  TOTALS(B)</td>\n",
       "      <td>\\tCohort A</td>\n",
       "      <td>1</td>\n",
       "      <td>4902</td>\n",
       "    </tr>\n",
       "    <tr>\n",
       "      <th>1</th>\n",
       "      <td>\\tFormula C:  TOTALS(B)</td>\n",
       "      <td>\\tCohort A</td>\n",
       "      <td>2</td>\n",
       "      <td>4600</td>\n",
       "    </tr>\n",
       "    <tr>\n",
       "      <th>2</th>\n",
       "      <td>\\tFormula C:  TOTALS(B)</td>\n",
       "      <td>\\tCohort A</td>\n",
       "      <td>3</td>\n",
       "      <td>4175</td>\n",
       "    </tr>\n",
       "    <tr>\n",
       "      <th>3</th>\n",
       "      <td>\\tFormula C:  TOTALS(B)</td>\n",
       "      <td>\\tCohort A</td>\n",
       "      <td>4</td>\n",
       "      <td>3851</td>\n",
       "    </tr>\n",
       "    <tr>\n",
       "      <th>4</th>\n",
       "      <td>\\tFormula C:  TOTALS(B)</td>\n",
       "      <td>\\tCohort A</td>\n",
       "      <td>5</td>\n",
       "      <td>3480</td>\n",
       "    </tr>\n",
       "    <tr>\n",
       "      <th>...</th>\n",
       "      <td>...</td>\n",
       "      <td>...</td>\n",
       "      <td>...</td>\n",
       "      <td>...</td>\n",
       "    </tr>\n",
       "    <tr>\n",
       "      <th>235</th>\n",
       "      <td>\\tFormula C:  TOTALS(B)</td>\n",
       "      <td>\\tCohort B</td>\n",
       "      <td>116</td>\n",
       "      <td>321</td>\n",
       "    </tr>\n",
       "    <tr>\n",
       "      <th>236</th>\n",
       "      <td>\\tFormula C:  TOTALS(B)</td>\n",
       "      <td>\\tCohort B</td>\n",
       "      <td>117</td>\n",
       "      <td>319</td>\n",
       "    </tr>\n",
       "    <tr>\n",
       "      <th>237</th>\n",
       "      <td>\\tFormula C:  TOTALS(B)</td>\n",
       "      <td>\\tCohort B</td>\n",
       "      <td>118</td>\n",
       "      <td>317</td>\n",
       "    </tr>\n",
       "    <tr>\n",
       "      <th>238</th>\n",
       "      <td>\\tFormula C:  TOTALS(B)</td>\n",
       "      <td>\\tCohort B</td>\n",
       "      <td>119</td>\n",
       "      <td>313</td>\n",
       "    </tr>\n",
       "    <tr>\n",
       "      <th>239</th>\n",
       "      <td>\\tFormula C:  TOTALS(B)</td>\n",
       "      <td>\\tCohort B</td>\n",
       "      <td>120</td>\n",
       "      <td>308</td>\n",
       "    </tr>\n",
       "  </tbody>\n",
       "</table>\n",
       "<p>240 rows × 4 columns</p>\n",
       "</div>"
      ],
      "text/plain": [
       "                     formula     segment  level_number  \\\n",
       "0    \\tFormula C:  TOTALS(B)  \\tCohort A             1   \n",
       "1    \\tFormula C:  TOTALS(B)  \\tCohort A             2   \n",
       "2    \\tFormula C:  TOTALS(B)  \\tCohort A             3   \n",
       "3    \\tFormula C:  TOTALS(B)  \\tCohort A             4   \n",
       "4    \\tFormula C:  TOTALS(B)  \\tCohort A             5   \n",
       "..                       ...         ...           ...   \n",
       "235  \\tFormula C:  TOTALS(B)  \\tCohort B           116   \n",
       "236  \\tFormula C:  TOTALS(B)  \\tCohort B           117   \n",
       "237  \\tFormula C:  TOTALS(B)  \\tCohort B           118   \n",
       "238  \\tFormula C:  TOTALS(B)  \\tCohort B           119   \n",
       "239  \\tFormula C:  TOTALS(B)  \\tCohort B           120   \n",
       "\n",
       "     2021-03-31 to 2021-06-29  \n",
       "0                        4902  \n",
       "1                        4600  \n",
       "2                        4175  \n",
       "3                        3851  \n",
       "4                        3480  \n",
       "..                        ...  \n",
       "235                       321  \n",
       "236                       319  \n",
       "237                       317  \n",
       "238                       313  \n",
       "239                       308  \n",
       "\n",
       "[240 rows x 4 columns]"
      ]
     },
     "execution_count": 5,
     "metadata": {},
     "output_type": "execute_result"
    }
   ],
   "source": [
    "totals_b"
   ]
  },
  {
   "cell_type": "code",
   "execution_count": 6,
   "metadata": {},
   "outputs": [
    {
     "data": {
      "text/html": [
       "<div>\n",
       "<style scoped>\n",
       "    .dataframe tbody tr th:only-of-type {\n",
       "        vertical-align: middle;\n",
       "    }\n",
       "\n",
       "    .dataframe tbody tr th {\n",
       "        vertical-align: top;\n",
       "    }\n",
       "\n",
       "    .dataframe thead th {\n",
       "        text-align: right;\n",
       "    }\n",
       "</style>\n",
       "<table border=\"1\" class=\"dataframe\">\n",
       "  <thead>\n",
       "    <tr style=\"text-align: right;\">\n",
       "      <th></th>\n",
       "      <th>formula</th>\n",
       "      <th>segment</th>\n",
       "      <th>level_number</th>\n",
       "      <th>2021-03-31 to 2021-06-29</th>\n",
       "    </tr>\n",
       "  </thead>\n",
       "  <tbody>\n",
       "    <tr>\n",
       "      <th>0</th>\n",
       "      <td>\\tFormula D:  TOTALS(C)</td>\n",
       "      <td>\\tCohort A</td>\n",
       "      <td>15</td>\n",
       "      <td>1200</td>\n",
       "    </tr>\n",
       "    <tr>\n",
       "      <th>1</th>\n",
       "      <td>\\tFormula D:  TOTALS(C)</td>\n",
       "      <td>\\tCohort A</td>\n",
       "      <td>69</td>\n",
       "      <td>1190</td>\n",
       "    </tr>\n",
       "    <tr>\n",
       "      <th>2</th>\n",
       "      <td>\\tFormula D:  TOTALS(C)</td>\n",
       "      <td>\\tCohort A</td>\n",
       "      <td>54</td>\n",
       "      <td>1041</td>\n",
       "    </tr>\n",
       "    <tr>\n",
       "      <th>3</th>\n",
       "      <td>\\tFormula D:  TOTALS(C)</td>\n",
       "      <td>\\tCohort A</td>\n",
       "      <td>29</td>\n",
       "      <td>1005</td>\n",
       "    </tr>\n",
       "    <tr>\n",
       "      <th>4</th>\n",
       "      <td>\\tFormula D:  TOTALS(C)</td>\n",
       "      <td>\\tCohort A</td>\n",
       "      <td>68</td>\n",
       "      <td>884</td>\n",
       "    </tr>\n",
       "    <tr>\n",
       "      <th>...</th>\n",
       "      <td>...</td>\n",
       "      <td>...</td>\n",
       "      <td>...</td>\n",
       "      <td>...</td>\n",
       "    </tr>\n",
       "    <tr>\n",
       "      <th>232</th>\n",
       "      <td>\\tFormula D:  TOTALS(C)</td>\n",
       "      <td>\\tCohort B</td>\n",
       "      <td>23</td>\n",
       "      <td>11</td>\n",
       "    </tr>\n",
       "    <tr>\n",
       "      <th>233</th>\n",
       "      <td>\\tFormula D:  TOTALS(C)</td>\n",
       "      <td>\\tCohort B</td>\n",
       "      <td>16</td>\n",
       "      <td>6</td>\n",
       "    </tr>\n",
       "    <tr>\n",
       "      <th>234</th>\n",
       "      <td>\\tFormula D:  TOTALS(C)</td>\n",
       "      <td>\\tCohort B</td>\n",
       "      <td>21</td>\n",
       "      <td>3</td>\n",
       "    </tr>\n",
       "    <tr>\n",
       "      <th>235</th>\n",
       "      <td>\\tFormula D:  TOTALS(C)</td>\n",
       "      <td>\\tCohort B</td>\n",
       "      <td>30</td>\n",
       "      <td>1</td>\n",
       "    </tr>\n",
       "    <tr>\n",
       "      <th>236</th>\n",
       "      <td>\\tFormula D:  TOTALS(C)</td>\n",
       "      <td>\\tCohort B</td>\n",
       "      <td>33</td>\n",
       "      <td>1</td>\n",
       "    </tr>\n",
       "  </tbody>\n",
       "</table>\n",
       "<p>237 rows × 4 columns</p>\n",
       "</div>"
      ],
      "text/plain": [
       "                     formula     segment  level_number  \\\n",
       "0    \\tFormula D:  TOTALS(C)  \\tCohort A            15   \n",
       "1    \\tFormula D:  TOTALS(C)  \\tCohort A            69   \n",
       "2    \\tFormula D:  TOTALS(C)  \\tCohort A            54   \n",
       "3    \\tFormula D:  TOTALS(C)  \\tCohort A            29   \n",
       "4    \\tFormula D:  TOTALS(C)  \\tCohort A            68   \n",
       "..                       ...         ...           ...   \n",
       "232  \\tFormula D:  TOTALS(C)  \\tCohort B            23   \n",
       "233  \\tFormula D:  TOTALS(C)  \\tCohort B            16   \n",
       "234  \\tFormula D:  TOTALS(C)  \\tCohort B            21   \n",
       "235  \\tFormula D:  TOTALS(C)  \\tCohort B            30   \n",
       "236  \\tFormula D:  TOTALS(C)  \\tCohort B            33   \n",
       "\n",
       "     2021-03-31 to 2021-06-29  \n",
       "0                        1200  \n",
       "1                        1190  \n",
       "2                        1041  \n",
       "3                        1005  \n",
       "4                         884  \n",
       "..                        ...  \n",
       "232                        11  \n",
       "233                         6  \n",
       "234                         3  \n",
       "235                         1  \n",
       "236                         1  \n",
       "\n",
       "[237 rows x 4 columns]"
      ]
     },
     "execution_count": 6,
     "metadata": {},
     "output_type": "execute_result"
    }
   ],
   "source": [
    "totals_c"
   ]
  },
  {
   "cell_type": "markdown",
   "metadata": {},
   "source": [
    "#### В таблице totals_c не хватает данных о трех уровнях, попробую заполнить"
   ]
  },
  {
   "cell_type": "code",
   "execution_count": 7,
   "metadata": {},
   "outputs": [
    {
     "data": {
      "text/html": [
       "<div>\n",
       "<style scoped>\n",
       "    .dataframe tbody tr th:only-of-type {\n",
       "        vertical-align: middle;\n",
       "    }\n",
       "\n",
       "    .dataframe tbody tr th {\n",
       "        vertical-align: top;\n",
       "    }\n",
       "\n",
       "    .dataframe thead th {\n",
       "        text-align: right;\n",
       "    }\n",
       "</style>\n",
       "<table border=\"1\" class=\"dataframe\">\n",
       "  <thead>\n",
       "    <tr style=\"text-align: right;\">\n",
       "      <th></th>\n",
       "      <th>formula</th>\n",
       "      <th>segment</th>\n",
       "      <th>level_number</th>\n",
       "      <th>2021-03-31 to 2021-06-29</th>\n",
       "    </tr>\n",
       "  </thead>\n",
       "  <tbody>\n",
       "    <tr>\n",
       "      <th>0</th>\n",
       "      <td>\\tFormula E:  TOTALS(D)</td>\n",
       "      <td>\\tCohort A</td>\n",
       "      <td>1</td>\n",
       "      <td>464</td>\n",
       "    </tr>\n",
       "    <tr>\n",
       "      <th>1</th>\n",
       "      <td>\\tFormula E:  TOTALS(D)</td>\n",
       "      <td>\\tCohort A</td>\n",
       "      <td>5</td>\n",
       "      <td>277</td>\n",
       "    </tr>\n",
       "    <tr>\n",
       "      <th>2</th>\n",
       "      <td>\\tFormula E:  TOTALS(D)</td>\n",
       "      <td>\\tCohort A</td>\n",
       "      <td>15</td>\n",
       "      <td>248</td>\n",
       "    </tr>\n",
       "    <tr>\n",
       "      <th>3</th>\n",
       "      <td>\\tFormula E:  TOTALS(D)</td>\n",
       "      <td>\\tCohort A</td>\n",
       "      <td>3</td>\n",
       "      <td>223</td>\n",
       "    </tr>\n",
       "    <tr>\n",
       "      <th>4</th>\n",
       "      <td>\\tFormula E:  TOTALS(D)</td>\n",
       "      <td>\\tCohort A</td>\n",
       "      <td>19</td>\n",
       "      <td>222</td>\n",
       "    </tr>\n",
       "    <tr>\n",
       "      <th>...</th>\n",
       "      <td>...</td>\n",
       "      <td>...</td>\n",
       "      <td>...</td>\n",
       "      <td>...</td>\n",
       "    </tr>\n",
       "    <tr>\n",
       "      <th>235</th>\n",
       "      <td>\\tFormula E:  TOTALS(D)</td>\n",
       "      <td>\\tCohort B</td>\n",
       "      <td>33</td>\n",
       "      <td>25</td>\n",
       "    </tr>\n",
       "    <tr>\n",
       "      <th>236</th>\n",
       "      <td>\\tFormula E:  TOTALS(D)</td>\n",
       "      <td>\\tCohort B</td>\n",
       "      <td>112</td>\n",
       "      <td>25</td>\n",
       "    </tr>\n",
       "    <tr>\n",
       "      <th>237</th>\n",
       "      <td>\\tFormula E:  TOTALS(D)</td>\n",
       "      <td>\\tCohort B</td>\n",
       "      <td>101</td>\n",
       "      <td>24</td>\n",
       "    </tr>\n",
       "    <tr>\n",
       "      <th>238</th>\n",
       "      <td>\\tFormula E:  TOTALS(D)</td>\n",
       "      <td>\\tCohort B</td>\n",
       "      <td>105</td>\n",
       "      <td>20</td>\n",
       "    </tr>\n",
       "    <tr>\n",
       "      <th>239</th>\n",
       "      <td>\\tFormula E:  TOTALS(D)</td>\n",
       "      <td>\\tCohort B</td>\n",
       "      <td>111</td>\n",
       "      <td>17</td>\n",
       "    </tr>\n",
       "  </tbody>\n",
       "</table>\n",
       "<p>240 rows × 4 columns</p>\n",
       "</div>"
      ],
      "text/plain": [
       "                     formula     segment  level_number  \\\n",
       "0    \\tFormula E:  TOTALS(D)  \\tCohort A             1   \n",
       "1    \\tFormula E:  TOTALS(D)  \\tCohort A             5   \n",
       "2    \\tFormula E:  TOTALS(D)  \\tCohort A            15   \n",
       "3    \\tFormula E:  TOTALS(D)  \\tCohort A             3   \n",
       "4    \\tFormula E:  TOTALS(D)  \\tCohort A            19   \n",
       "..                       ...         ...           ...   \n",
       "235  \\tFormula E:  TOTALS(D)  \\tCohort B            33   \n",
       "236  \\tFormula E:  TOTALS(D)  \\tCohort B           112   \n",
       "237  \\tFormula E:  TOTALS(D)  \\tCohort B           101   \n",
       "238  \\tFormula E:  TOTALS(D)  \\tCohort B           105   \n",
       "239  \\tFormula E:  TOTALS(D)  \\tCohort B           111   \n",
       "\n",
       "     2021-03-31 to 2021-06-29  \n",
       "0                         464  \n",
       "1                         277  \n",
       "2                         248  \n",
       "3                         223  \n",
       "4                         222  \n",
       "..                        ...  \n",
       "235                        25  \n",
       "236                        25  \n",
       "237                        24  \n",
       "238                        20  \n",
       "239                        17  \n",
       "\n",
       "[240 rows x 4 columns]"
      ]
     },
     "execution_count": 7,
     "metadata": {},
     "output_type": "execute_result"
    }
   ],
   "source": [
    "totals_d"
   ]
  },
  {
   "cell_type": "code",
   "execution_count": 8,
   "metadata": {},
   "outputs": [
    {
     "data": {
      "text/html": [
       "<div>\n",
       "<style scoped>\n",
       "    .dataframe tbody tr th:only-of-type {\n",
       "        vertical-align: middle;\n",
       "    }\n",
       "\n",
       "    .dataframe tbody tr th {\n",
       "        vertical-align: top;\n",
       "    }\n",
       "\n",
       "    .dataframe thead th {\n",
       "        text-align: right;\n",
       "    }\n",
       "</style>\n",
       "<table border=\"1\" class=\"dataframe\">\n",
       "  <thead>\n",
       "    <tr style=\"text-align: right;\">\n",
       "      <th></th>\n",
       "      <th>formula</th>\n",
       "      <th>segment</th>\n",
       "      <th>level_number</th>\n",
       "      <th>2021-03-31 to 2021-06-29</th>\n",
       "    </tr>\n",
       "  </thead>\n",
       "  <tbody>\n",
       "    <tr>\n",
       "      <th>0</th>\n",
       "      <td>Formula F:  TIME</td>\n",
       "      <td>\\tCohort A</td>\n",
       "      <td>1</td>\n",
       "      <td>180</td>\n",
       "    </tr>\n",
       "    <tr>\n",
       "      <th>1</th>\n",
       "      <td>Formula F:  TIME</td>\n",
       "      <td>\\tCohort A</td>\n",
       "      <td>2</td>\n",
       "      <td>180</td>\n",
       "    </tr>\n",
       "    <tr>\n",
       "      <th>2</th>\n",
       "      <td>Formula F:  TIME</td>\n",
       "      <td>\\tCohort A</td>\n",
       "      <td>3</td>\n",
       "      <td>205</td>\n",
       "    </tr>\n",
       "    <tr>\n",
       "      <th>3</th>\n",
       "      <td>Formula F:  TIME</td>\n",
       "      <td>\\tCohort A</td>\n",
       "      <td>4</td>\n",
       "      <td>250</td>\n",
       "    </tr>\n",
       "    <tr>\n",
       "      <th>4</th>\n",
       "      <td>Formula F:  TIME</td>\n",
       "      <td>\\tCohort A</td>\n",
       "      <td>5</td>\n",
       "      <td>210</td>\n",
       "    </tr>\n",
       "    <tr>\n",
       "      <th>...</th>\n",
       "      <td>...</td>\n",
       "      <td>...</td>\n",
       "      <td>...</td>\n",
       "      <td>...</td>\n",
       "    </tr>\n",
       "    <tr>\n",
       "      <th>235</th>\n",
       "      <td>Formula F:  TIME</td>\n",
       "      <td>\\tCohort B</td>\n",
       "      <td>116</td>\n",
       "      <td>281</td>\n",
       "    </tr>\n",
       "    <tr>\n",
       "      <th>236</th>\n",
       "      <td>Formula F:  TIME</td>\n",
       "      <td>\\tCohort B</td>\n",
       "      <td>117</td>\n",
       "      <td>328</td>\n",
       "    </tr>\n",
       "    <tr>\n",
       "      <th>237</th>\n",
       "      <td>Formula F:  TIME</td>\n",
       "      <td>\\tCohort B</td>\n",
       "      <td>118</td>\n",
       "      <td>323</td>\n",
       "    </tr>\n",
       "    <tr>\n",
       "      <th>238</th>\n",
       "      <td>Formula F:  TIME</td>\n",
       "      <td>\\tCohort B</td>\n",
       "      <td>119</td>\n",
       "      <td>282</td>\n",
       "    </tr>\n",
       "    <tr>\n",
       "      <th>239</th>\n",
       "      <td>Formula F:  TIME</td>\n",
       "      <td>\\tCohort B</td>\n",
       "      <td>120</td>\n",
       "      <td>268</td>\n",
       "    </tr>\n",
       "  </tbody>\n",
       "</table>\n",
       "<p>240 rows × 4 columns</p>\n",
       "</div>"
      ],
      "text/plain": [
       "               formula     segment  level_number  2021-03-31 to 2021-06-29\n",
       "0     Formula F:  TIME  \\tCohort A             1                       180\n",
       "1     Formula F:  TIME  \\tCohort A             2                       180\n",
       "2     Formula F:  TIME  \\tCohort A             3                       205\n",
       "3     Formula F:  TIME  \\tCohort A             4                       250\n",
       "4     Formula F:  TIME  \\tCohort A             5                       210\n",
       "..                 ...         ...           ...                       ...\n",
       "235   Formula F:  TIME  \\tCohort B           116                       281\n",
       "236   Formula F:  TIME  \\tCohort B           117                       328\n",
       "237   Formula F:  TIME  \\tCohort B           118                       323\n",
       "238   Formula F:  TIME  \\tCohort B           119                       282\n",
       "239   Formula F:  TIME  \\tCohort B           120                       268\n",
       "\n",
       "[240 rows x 4 columns]"
      ]
     },
     "execution_count": 8,
     "metadata": {},
     "output_type": "execute_result"
    }
   ],
   "source": [
    "time"
   ]
  },
  {
   "cell_type": "code",
   "execution_count": 9,
   "metadata": {},
   "outputs": [
    {
     "data": {
      "text/plain": [
       "120    2\n",
       "46     2\n",
       "34     2\n",
       "35     2\n",
       "36     2\n",
       "      ..\n",
       "86     2\n",
       "87     2\n",
       "88     2\n",
       "2      2\n",
       "33     1\n",
       "Name: level_number, Length: 119, dtype: int64"
      ]
     },
     "execution_count": 9,
     "metadata": {},
     "output_type": "execute_result"
    }
   ],
   "source": [
    "totals_c.level_number.value_counts()"
   ]
  },
  {
   "cell_type": "code",
   "execution_count": 10,
   "metadata": {},
   "outputs": [
    {
     "data": {
      "text/plain": [
       "\\tCohort B    119\n",
       "\\tCohort A    118\n",
       "Name: segment, dtype: int64"
      ]
     },
     "execution_count": 10,
     "metadata": {},
     "output_type": "execute_result"
    }
   ],
   "source": [
    "totals_c.segment.value_counts()"
   ]
  },
  {
   "cell_type": "code",
   "execution_count": 11,
   "metadata": {},
   "outputs": [
    {
     "data": {
      "text/html": [
       "<div>\n",
       "<style scoped>\n",
       "    .dataframe tbody tr th:only-of-type {\n",
       "        vertical-align: middle;\n",
       "    }\n",
       "\n",
       "    .dataframe tbody tr th {\n",
       "        vertical-align: top;\n",
       "    }\n",
       "\n",
       "    .dataframe thead th {\n",
       "        text-align: right;\n",
       "    }\n",
       "</style>\n",
       "<table border=\"1\" class=\"dataframe\">\n",
       "  <thead>\n",
       "    <tr style=\"text-align: right;\">\n",
       "      <th></th>\n",
       "      <th>formula</th>\n",
       "      <th>segment</th>\n",
       "      <th>level_number</th>\n",
       "      <th>2021-03-31 to 2021-06-29</th>\n",
       "    </tr>\n",
       "  </thead>\n",
       "  <tbody>\n",
       "  </tbody>\n",
       "</table>\n",
       "</div>"
      ],
      "text/plain": [
       "Empty DataFrame\n",
       "Columns: [formula, segment, level_number, 2021-03-31 to 2021-06-29]\n",
       "Index: []"
      ]
     },
     "execution_count": 11,
     "metadata": {},
     "output_type": "execute_result"
    }
   ],
   "source": [
    "totals_c[totals_c['level_number'] == 1]"
   ]
  },
  {
   "cell_type": "markdown",
   "metadata": {},
   "source": [
    "#### Нет информации о проигрышах на первом уровне. Скорее всего этот уровень очень легкий или обучающий, так что заполню его нулями."
   ]
  },
  {
   "cell_type": "code",
   "execution_count": 12,
   "metadata": {},
   "outputs": [
    {
     "data": {
      "text/html": [
       "<div>\n",
       "<style scoped>\n",
       "    .dataframe tbody tr th:only-of-type {\n",
       "        vertical-align: middle;\n",
       "    }\n",
       "\n",
       "    .dataframe tbody tr th {\n",
       "        vertical-align: top;\n",
       "    }\n",
       "\n",
       "    .dataframe thead th {\n",
       "        text-align: right;\n",
       "    }\n",
       "</style>\n",
       "<table border=\"1\" class=\"dataframe\">\n",
       "  <thead>\n",
       "    <tr style=\"text-align: right;\">\n",
       "      <th></th>\n",
       "      <th>formula</th>\n",
       "      <th>segment</th>\n",
       "      <th>level_number</th>\n",
       "      <th>2021-03-31 to 2021-06-29</th>\n",
       "    </tr>\n",
       "  </thead>\n",
       "  <tbody>\n",
       "    <tr>\n",
       "      <th>236</th>\n",
       "      <td>\\tFormula D:  TOTALS(C)</td>\n",
       "      <td>\\tCohort B</td>\n",
       "      <td>33</td>\n",
       "      <td>1</td>\n",
       "    </tr>\n",
       "  </tbody>\n",
       "</table>\n",
       "</div>"
      ],
      "text/plain": [
       "                     formula     segment  level_number  \\\n",
       "236  \\tFormula D:  TOTALS(C)  \\tCohort B            33   \n",
       "\n",
       "     2021-03-31 to 2021-06-29  \n",
       "236                         1  "
      ]
     },
     "execution_count": 12,
     "metadata": {},
     "output_type": "execute_result"
    }
   ],
   "source": [
    "totals_c[totals_c['level_number'] == 33]"
   ]
  },
  {
   "cell_type": "markdown",
   "metadata": {},
   "source": [
    "#### Нет информации о проигрышах на 33 уровне в когорте А.  По-хорошему, этот момент следовало бы уточнить у тех, кто эту таблицу собирал, но мне пока уточнять особо не у кого, так что буду считать, что раз в когорте В уровень был легким(всего один проигрыш), то и в когорте А он был легким. Заполню нулем"
   ]
  },
  {
   "cell_type": "code",
   "execution_count": 13,
   "metadata": {},
   "outputs": [],
   "source": [
    "totals_c = totals_c.append(\n",
    "    [{'formula' : ' \\tFormula D: TOTALS(C)', 'segment' : '\\tCohort A', 'level_number' : 1, '2021-03-31 to 2021-06-29' : 0},\n",
    "    {'formula' : ' \\tFormula D: TOTALS(C)', 'segment' : '\\tCohort B', 'level_number' : 1, '2021-03-31 to 2021-06-29' : 0},\n",
    "    {'formula' : ' \\tFormula D: TOTALS(C)', 'segment' : '\\tCohort A', 'level_number' : 33, '2021-03-31 to 2021-06-29' : 0}],\n",
    "    ignore_index=True\n",
    ")"
   ]
  },
  {
   "cell_type": "code",
   "execution_count": 14,
   "metadata": {},
   "outputs": [],
   "source": [
    "def cleaner(dataframe):\n",
    "    dataframe.drop('formula', axis=1, inplace=True)\n",
    "    dataframe['segment'] = dataframe['segment'].str.strip()\n",
    "    dataframe.sort_values(by=['level_number', 'segment'], inplace=True)\n",
    "    dataframe.reset_index(drop=True, inplace=True)"
   ]
  },
  {
   "cell_type": "code",
   "execution_count": 15,
   "metadata": {},
   "outputs": [],
   "source": [
    "dataframes = [unique_a, totals_a, totals_b, totals_c, totals_d, time]\n",
    "for dataframe in dataframes:\n",
    "    cleaner(dataframe)"
   ]
  },
  {
   "cell_type": "code",
   "execution_count": 16,
   "metadata": {},
   "outputs": [],
   "source": [
    "dataframe_names = ['unique_a', 'totals_a', 'totals_b', 'totals_c', 'totals_d', 'time']\n",
    "for i in range(6):\n",
    "    dataframes[i].rename(columns={'2021-03-31 to 2021-06-29' : dataframe_names[i]}, inplace=True)"
   ]
  },
  {
   "cell_type": "code",
   "execution_count": 17,
   "metadata": {},
   "outputs": [
    {
     "data": {
      "text/html": [
       "<div>\n",
       "<style scoped>\n",
       "    .dataframe tbody tr th:only-of-type {\n",
       "        vertical-align: middle;\n",
       "    }\n",
       "\n",
       "    .dataframe tbody tr th {\n",
       "        vertical-align: top;\n",
       "    }\n",
       "\n",
       "    .dataframe thead th {\n",
       "        text-align: right;\n",
       "    }\n",
       "</style>\n",
       "<table border=\"1\" class=\"dataframe\">\n",
       "  <thead>\n",
       "    <tr style=\"text-align: right;\">\n",
       "      <th></th>\n",
       "      <th>segment</th>\n",
       "      <th>level_number</th>\n",
       "      <th>unique_a</th>\n",
       "    </tr>\n",
       "  </thead>\n",
       "  <tbody>\n",
       "    <tr>\n",
       "      <th>0</th>\n",
       "      <td>Cohort A</td>\n",
       "      <td>1</td>\n",
       "      <td>5057</td>\n",
       "    </tr>\n",
       "    <tr>\n",
       "      <th>1</th>\n",
       "      <td>Cohort B</td>\n",
       "      <td>1</td>\n",
       "      <td>5196</td>\n",
       "    </tr>\n",
       "    <tr>\n",
       "      <th>2</th>\n",
       "      <td>Cohort A</td>\n",
       "      <td>2</td>\n",
       "      <td>4724</td>\n",
       "    </tr>\n",
       "    <tr>\n",
       "      <th>3</th>\n",
       "      <td>Cohort B</td>\n",
       "      <td>2</td>\n",
       "      <td>4801</td>\n",
       "    </tr>\n",
       "    <tr>\n",
       "      <th>4</th>\n",
       "      <td>Cohort A</td>\n",
       "      <td>3</td>\n",
       "      <td>4363</td>\n",
       "    </tr>\n",
       "    <tr>\n",
       "      <th>...</th>\n",
       "      <td>...</td>\n",
       "      <td>...</td>\n",
       "      <td>...</td>\n",
       "    </tr>\n",
       "    <tr>\n",
       "      <th>235</th>\n",
       "      <td>Cohort B</td>\n",
       "      <td>118</td>\n",
       "      <td>316</td>\n",
       "    </tr>\n",
       "    <tr>\n",
       "      <th>236</th>\n",
       "      <td>Cohort A</td>\n",
       "      <td>119</td>\n",
       "      <td>319</td>\n",
       "    </tr>\n",
       "    <tr>\n",
       "      <th>237</th>\n",
       "      <td>Cohort B</td>\n",
       "      <td>119</td>\n",
       "      <td>313</td>\n",
       "    </tr>\n",
       "    <tr>\n",
       "      <th>238</th>\n",
       "      <td>Cohort A</td>\n",
       "      <td>120</td>\n",
       "      <td>315</td>\n",
       "    </tr>\n",
       "    <tr>\n",
       "      <th>239</th>\n",
       "      <td>Cohort B</td>\n",
       "      <td>120</td>\n",
       "      <td>311</td>\n",
       "    </tr>\n",
       "  </tbody>\n",
       "</table>\n",
       "<p>240 rows × 3 columns</p>\n",
       "</div>"
      ],
      "text/plain": [
       "      segment  level_number  unique_a\n",
       "0    Cohort A             1      5057\n",
       "1    Cohort B             1      5196\n",
       "2    Cohort A             2      4724\n",
       "3    Cohort B             2      4801\n",
       "4    Cohort A             3      4363\n",
       "..        ...           ...       ...\n",
       "235  Cohort B           118       316\n",
       "236  Cohort A           119       319\n",
       "237  Cohort B           119       313\n",
       "238  Cohort A           120       315\n",
       "239  Cohort B           120       311\n",
       "\n",
       "[240 rows x 3 columns]"
      ]
     },
     "execution_count": 17,
     "metadata": {},
     "output_type": "execute_result"
    }
   ],
   "source": [
    "unique_a"
   ]
  },
  {
   "cell_type": "code",
   "execution_count": 18,
   "metadata": {},
   "outputs": [
    {
     "data": {
      "text/html": [
       "<div>\n",
       "<style scoped>\n",
       "    .dataframe tbody tr th:only-of-type {\n",
       "        vertical-align: middle;\n",
       "    }\n",
       "\n",
       "    .dataframe tbody tr th {\n",
       "        vertical-align: top;\n",
       "    }\n",
       "\n",
       "    .dataframe thead th {\n",
       "        text-align: right;\n",
       "    }\n",
       "</style>\n",
       "<table border=\"1\" class=\"dataframe\">\n",
       "  <thead>\n",
       "    <tr style=\"text-align: right;\">\n",
       "      <th></th>\n",
       "      <th>segment</th>\n",
       "      <th>level_number</th>\n",
       "      <th>totals_a</th>\n",
       "    </tr>\n",
       "  </thead>\n",
       "  <tbody>\n",
       "    <tr>\n",
       "      <th>0</th>\n",
       "      <td>Cohort A</td>\n",
       "      <td>1</td>\n",
       "      <td>5131</td>\n",
       "    </tr>\n",
       "    <tr>\n",
       "      <th>1</th>\n",
       "      <td>Cohort B</td>\n",
       "      <td>1</td>\n",
       "      <td>5272</td>\n",
       "    </tr>\n",
       "    <tr>\n",
       "      <th>2</th>\n",
       "      <td>Cohort A</td>\n",
       "      <td>2</td>\n",
       "      <td>4759</td>\n",
       "    </tr>\n",
       "    <tr>\n",
       "      <th>3</th>\n",
       "      <td>Cohort B</td>\n",
       "      <td>2</td>\n",
       "      <td>4845</td>\n",
       "    </tr>\n",
       "    <tr>\n",
       "      <th>4</th>\n",
       "      <td>Cohort A</td>\n",
       "      <td>3</td>\n",
       "      <td>4464</td>\n",
       "    </tr>\n",
       "    <tr>\n",
       "      <th>...</th>\n",
       "      <td>...</td>\n",
       "      <td>...</td>\n",
       "      <td>...</td>\n",
       "    </tr>\n",
       "    <tr>\n",
       "      <th>235</th>\n",
       "      <td>Cohort B</td>\n",
       "      <td>118</td>\n",
       "      <td>562</td>\n",
       "    </tr>\n",
       "    <tr>\n",
       "      <th>236</th>\n",
       "      <td>Cohort A</td>\n",
       "      <td>119</td>\n",
       "      <td>754</td>\n",
       "    </tr>\n",
       "    <tr>\n",
       "      <th>237</th>\n",
       "      <td>Cohort B</td>\n",
       "      <td>119</td>\n",
       "      <td>607</td>\n",
       "    </tr>\n",
       "    <tr>\n",
       "      <th>238</th>\n",
       "      <td>Cohort A</td>\n",
       "      <td>120</td>\n",
       "      <td>445</td>\n",
       "    </tr>\n",
       "    <tr>\n",
       "      <th>239</th>\n",
       "      <td>Cohort B</td>\n",
       "      <td>120</td>\n",
       "      <td>1018</td>\n",
       "    </tr>\n",
       "  </tbody>\n",
       "</table>\n",
       "<p>240 rows × 3 columns</p>\n",
       "</div>"
      ],
      "text/plain": [
       "      segment  level_number  totals_a\n",
       "0    Cohort A             1      5131\n",
       "1    Cohort B             1      5272\n",
       "2    Cohort A             2      4759\n",
       "3    Cohort B             2      4845\n",
       "4    Cohort A             3      4464\n",
       "..        ...           ...       ...\n",
       "235  Cohort B           118       562\n",
       "236  Cohort A           119       754\n",
       "237  Cohort B           119       607\n",
       "238  Cohort A           120       445\n",
       "239  Cohort B           120      1018\n",
       "\n",
       "[240 rows x 3 columns]"
      ]
     },
     "execution_count": 18,
     "metadata": {},
     "output_type": "execute_result"
    }
   ],
   "source": [
    "totals_a"
   ]
  },
  {
   "cell_type": "code",
   "execution_count": 19,
   "metadata": {},
   "outputs": [
    {
     "data": {
      "text/html": [
       "<div>\n",
       "<style scoped>\n",
       "    .dataframe tbody tr th:only-of-type {\n",
       "        vertical-align: middle;\n",
       "    }\n",
       "\n",
       "    .dataframe tbody tr th {\n",
       "        vertical-align: top;\n",
       "    }\n",
       "\n",
       "    .dataframe thead th {\n",
       "        text-align: right;\n",
       "    }\n",
       "</style>\n",
       "<table border=\"1\" class=\"dataframe\">\n",
       "  <thead>\n",
       "    <tr style=\"text-align: right;\">\n",
       "      <th></th>\n",
       "      <th>segment</th>\n",
       "      <th>level_number</th>\n",
       "      <th>totals_b</th>\n",
       "    </tr>\n",
       "  </thead>\n",
       "  <tbody>\n",
       "    <tr>\n",
       "      <th>0</th>\n",
       "      <td>Cohort A</td>\n",
       "      <td>1</td>\n",
       "      <td>4902</td>\n",
       "    </tr>\n",
       "    <tr>\n",
       "      <th>1</th>\n",
       "      <td>Cohort B</td>\n",
       "      <td>1</td>\n",
       "      <td>4995</td>\n",
       "    </tr>\n",
       "    <tr>\n",
       "      <th>2</th>\n",
       "      <td>Cohort A</td>\n",
       "      <td>2</td>\n",
       "      <td>4600</td>\n",
       "    </tr>\n",
       "    <tr>\n",
       "      <th>3</th>\n",
       "      <td>Cohort B</td>\n",
       "      <td>2</td>\n",
       "      <td>4629</td>\n",
       "    </tr>\n",
       "    <tr>\n",
       "      <th>4</th>\n",
       "      <td>Cohort A</td>\n",
       "      <td>3</td>\n",
       "      <td>4175</td>\n",
       "    </tr>\n",
       "    <tr>\n",
       "      <th>...</th>\n",
       "      <td>...</td>\n",
       "      <td>...</td>\n",
       "      <td>...</td>\n",
       "    </tr>\n",
       "    <tr>\n",
       "      <th>235</th>\n",
       "      <td>Cohort B</td>\n",
       "      <td>118</td>\n",
       "      <td>317</td>\n",
       "    </tr>\n",
       "    <tr>\n",
       "      <th>236</th>\n",
       "      <td>Cohort A</td>\n",
       "      <td>119</td>\n",
       "      <td>318</td>\n",
       "    </tr>\n",
       "    <tr>\n",
       "      <th>237</th>\n",
       "      <td>Cohort B</td>\n",
       "      <td>119</td>\n",
       "      <td>313</td>\n",
       "    </tr>\n",
       "    <tr>\n",
       "      <th>238</th>\n",
       "      <td>Cohort A</td>\n",
       "      <td>120</td>\n",
       "      <td>316</td>\n",
       "    </tr>\n",
       "    <tr>\n",
       "      <th>239</th>\n",
       "      <td>Cohort B</td>\n",
       "      <td>120</td>\n",
       "      <td>308</td>\n",
       "    </tr>\n",
       "  </tbody>\n",
       "</table>\n",
       "<p>240 rows × 3 columns</p>\n",
       "</div>"
      ],
      "text/plain": [
       "      segment  level_number  totals_b\n",
       "0    Cohort A             1      4902\n",
       "1    Cohort B             1      4995\n",
       "2    Cohort A             2      4600\n",
       "3    Cohort B             2      4629\n",
       "4    Cohort A             3      4175\n",
       "..        ...           ...       ...\n",
       "235  Cohort B           118       317\n",
       "236  Cohort A           119       318\n",
       "237  Cohort B           119       313\n",
       "238  Cohort A           120       316\n",
       "239  Cohort B           120       308\n",
       "\n",
       "[240 rows x 3 columns]"
      ]
     },
     "execution_count": 19,
     "metadata": {},
     "output_type": "execute_result"
    }
   ],
   "source": [
    "totals_b"
   ]
  },
  {
   "cell_type": "code",
   "execution_count": 20,
   "metadata": {},
   "outputs": [
    {
     "data": {
      "text/html": [
       "<div>\n",
       "<style scoped>\n",
       "    .dataframe tbody tr th:only-of-type {\n",
       "        vertical-align: middle;\n",
       "    }\n",
       "\n",
       "    .dataframe tbody tr th {\n",
       "        vertical-align: top;\n",
       "    }\n",
       "\n",
       "    .dataframe thead th {\n",
       "        text-align: right;\n",
       "    }\n",
       "</style>\n",
       "<table border=\"1\" class=\"dataframe\">\n",
       "  <thead>\n",
       "    <tr style=\"text-align: right;\">\n",
       "      <th></th>\n",
       "      <th>segment</th>\n",
       "      <th>level_number</th>\n",
       "      <th>totals_c</th>\n",
       "    </tr>\n",
       "  </thead>\n",
       "  <tbody>\n",
       "    <tr>\n",
       "      <th>0</th>\n",
       "      <td>Cohort A</td>\n",
       "      <td>1</td>\n",
       "      <td>0</td>\n",
       "    </tr>\n",
       "    <tr>\n",
       "      <th>1</th>\n",
       "      <td>Cohort B</td>\n",
       "      <td>1</td>\n",
       "      <td>0</td>\n",
       "    </tr>\n",
       "    <tr>\n",
       "      <th>2</th>\n",
       "      <td>Cohort A</td>\n",
       "      <td>2</td>\n",
       "      <td>12</td>\n",
       "    </tr>\n",
       "    <tr>\n",
       "      <th>3</th>\n",
       "      <td>Cohort B</td>\n",
       "      <td>2</td>\n",
       "      <td>13</td>\n",
       "    </tr>\n",
       "    <tr>\n",
       "      <th>4</th>\n",
       "      <td>Cohort A</td>\n",
       "      <td>3</td>\n",
       "      <td>72</td>\n",
       "    </tr>\n",
       "    <tr>\n",
       "      <th>...</th>\n",
       "      <td>...</td>\n",
       "      <td>...</td>\n",
       "      <td>...</td>\n",
       "    </tr>\n",
       "    <tr>\n",
       "      <th>235</th>\n",
       "      <td>Cohort B</td>\n",
       "      <td>118</td>\n",
       "      <td>222</td>\n",
       "    </tr>\n",
       "    <tr>\n",
       "      <th>236</th>\n",
       "      <td>Cohort A</td>\n",
       "      <td>119</td>\n",
       "      <td>401</td>\n",
       "    </tr>\n",
       "    <tr>\n",
       "      <th>237</th>\n",
       "      <td>Cohort B</td>\n",
       "      <td>119</td>\n",
       "      <td>258</td>\n",
       "    </tr>\n",
       "    <tr>\n",
       "      <th>238</th>\n",
       "      <td>Cohort A</td>\n",
       "      <td>120</td>\n",
       "      <td>94</td>\n",
       "    </tr>\n",
       "    <tr>\n",
       "      <th>239</th>\n",
       "      <td>Cohort B</td>\n",
       "      <td>120</td>\n",
       "      <td>641</td>\n",
       "    </tr>\n",
       "  </tbody>\n",
       "</table>\n",
       "<p>240 rows × 3 columns</p>\n",
       "</div>"
      ],
      "text/plain": [
       "      segment  level_number  totals_c\n",
       "0    Cohort A             1         0\n",
       "1    Cohort B             1         0\n",
       "2    Cohort A             2        12\n",
       "3    Cohort B             2        13\n",
       "4    Cohort A             3        72\n",
       "..        ...           ...       ...\n",
       "235  Cohort B           118       222\n",
       "236  Cohort A           119       401\n",
       "237  Cohort B           119       258\n",
       "238  Cohort A           120        94\n",
       "239  Cohort B           120       641\n",
       "\n",
       "[240 rows x 3 columns]"
      ]
     },
     "execution_count": 20,
     "metadata": {},
     "output_type": "execute_result"
    }
   ],
   "source": [
    "totals_c"
   ]
  },
  {
   "cell_type": "code",
   "execution_count": 21,
   "metadata": {},
   "outputs": [
    {
     "data": {
      "text/html": [
       "<div>\n",
       "<style scoped>\n",
       "    .dataframe tbody tr th:only-of-type {\n",
       "        vertical-align: middle;\n",
       "    }\n",
       "\n",
       "    .dataframe tbody tr th {\n",
       "        vertical-align: top;\n",
       "    }\n",
       "\n",
       "    .dataframe thead th {\n",
       "        text-align: right;\n",
       "    }\n",
       "</style>\n",
       "<table border=\"1\" class=\"dataframe\">\n",
       "  <thead>\n",
       "    <tr style=\"text-align: right;\">\n",
       "      <th></th>\n",
       "      <th>segment</th>\n",
       "      <th>level_number</th>\n",
       "      <th>totals_d</th>\n",
       "    </tr>\n",
       "  </thead>\n",
       "  <tbody>\n",
       "    <tr>\n",
       "      <th>0</th>\n",
       "      <td>Cohort A</td>\n",
       "      <td>1</td>\n",
       "      <td>464</td>\n",
       "    </tr>\n",
       "    <tr>\n",
       "      <th>1</th>\n",
       "      <td>Cohort B</td>\n",
       "      <td>1</td>\n",
       "      <td>493</td>\n",
       "    </tr>\n",
       "    <tr>\n",
       "      <th>2</th>\n",
       "      <td>Cohort A</td>\n",
       "      <td>2</td>\n",
       "      <td>147</td>\n",
       "    </tr>\n",
       "    <tr>\n",
       "      <th>3</th>\n",
       "      <td>Cohort B</td>\n",
       "      <td>2</td>\n",
       "      <td>157</td>\n",
       "    </tr>\n",
       "    <tr>\n",
       "      <th>4</th>\n",
       "      <td>Cohort A</td>\n",
       "      <td>3</td>\n",
       "      <td>223</td>\n",
       "    </tr>\n",
       "    <tr>\n",
       "      <th>...</th>\n",
       "      <td>...</td>\n",
       "      <td>...</td>\n",
       "      <td>...</td>\n",
       "    </tr>\n",
       "    <tr>\n",
       "      <th>235</th>\n",
       "      <td>Cohort B</td>\n",
       "      <td>118</td>\n",
       "      <td>64</td>\n",
       "    </tr>\n",
       "    <tr>\n",
       "      <th>236</th>\n",
       "      <td>Cohort A</td>\n",
       "      <td>119</td>\n",
       "      <td>100</td>\n",
       "    </tr>\n",
       "    <tr>\n",
       "      <th>237</th>\n",
       "      <td>Cohort B</td>\n",
       "      <td>119</td>\n",
       "      <td>99</td>\n",
       "    </tr>\n",
       "    <tr>\n",
       "      <th>238</th>\n",
       "      <td>Cohort A</td>\n",
       "      <td>120</td>\n",
       "      <td>58</td>\n",
       "    </tr>\n",
       "    <tr>\n",
       "      <th>239</th>\n",
       "      <td>Cohort B</td>\n",
       "      <td>120</td>\n",
       "      <td>136</td>\n",
       "    </tr>\n",
       "  </tbody>\n",
       "</table>\n",
       "<p>240 rows × 3 columns</p>\n",
       "</div>"
      ],
      "text/plain": [
       "      segment  level_number  totals_d\n",
       "0    Cohort A             1       464\n",
       "1    Cohort B             1       493\n",
       "2    Cohort A             2       147\n",
       "3    Cohort B             2       157\n",
       "4    Cohort A             3       223\n",
       "..        ...           ...       ...\n",
       "235  Cohort B           118        64\n",
       "236  Cohort A           119       100\n",
       "237  Cohort B           119        99\n",
       "238  Cohort A           120        58\n",
       "239  Cohort B           120       136\n",
       "\n",
       "[240 rows x 3 columns]"
      ]
     },
     "execution_count": 21,
     "metadata": {},
     "output_type": "execute_result"
    }
   ],
   "source": [
    "totals_d"
   ]
  },
  {
   "cell_type": "code",
   "execution_count": 22,
   "metadata": {},
   "outputs": [
    {
     "data": {
      "text/html": [
       "<div>\n",
       "<style scoped>\n",
       "    .dataframe tbody tr th:only-of-type {\n",
       "        vertical-align: middle;\n",
       "    }\n",
       "\n",
       "    .dataframe tbody tr th {\n",
       "        vertical-align: top;\n",
       "    }\n",
       "\n",
       "    .dataframe thead th {\n",
       "        text-align: right;\n",
       "    }\n",
       "</style>\n",
       "<table border=\"1\" class=\"dataframe\">\n",
       "  <thead>\n",
       "    <tr style=\"text-align: right;\">\n",
       "      <th></th>\n",
       "      <th>segment</th>\n",
       "      <th>level_number</th>\n",
       "      <th>time</th>\n",
       "    </tr>\n",
       "  </thead>\n",
       "  <tbody>\n",
       "    <tr>\n",
       "      <th>0</th>\n",
       "      <td>Cohort A</td>\n",
       "      <td>1</td>\n",
       "      <td>180</td>\n",
       "    </tr>\n",
       "    <tr>\n",
       "      <th>1</th>\n",
       "      <td>Cohort B</td>\n",
       "      <td>1</td>\n",
       "      <td>185</td>\n",
       "    </tr>\n",
       "    <tr>\n",
       "      <th>2</th>\n",
       "      <td>Cohort A</td>\n",
       "      <td>2</td>\n",
       "      <td>180</td>\n",
       "    </tr>\n",
       "    <tr>\n",
       "      <th>3</th>\n",
       "      <td>Cohort B</td>\n",
       "      <td>2</td>\n",
       "      <td>180</td>\n",
       "    </tr>\n",
       "    <tr>\n",
       "      <th>4</th>\n",
       "      <td>Cohort A</td>\n",
       "      <td>3</td>\n",
       "      <td>205</td>\n",
       "    </tr>\n",
       "    <tr>\n",
       "      <th>...</th>\n",
       "      <td>...</td>\n",
       "      <td>...</td>\n",
       "      <td>...</td>\n",
       "    </tr>\n",
       "    <tr>\n",
       "      <th>235</th>\n",
       "      <td>Cohort B</td>\n",
       "      <td>118</td>\n",
       "      <td>323</td>\n",
       "    </tr>\n",
       "    <tr>\n",
       "      <th>236</th>\n",
       "      <td>Cohort A</td>\n",
       "      <td>119</td>\n",
       "      <td>273</td>\n",
       "    </tr>\n",
       "    <tr>\n",
       "      <th>237</th>\n",
       "      <td>Cohort B</td>\n",
       "      <td>119</td>\n",
       "      <td>282</td>\n",
       "    </tr>\n",
       "    <tr>\n",
       "      <th>238</th>\n",
       "      <td>Cohort A</td>\n",
       "      <td>120</td>\n",
       "      <td>300</td>\n",
       "    </tr>\n",
       "    <tr>\n",
       "      <th>239</th>\n",
       "      <td>Cohort B</td>\n",
       "      <td>120</td>\n",
       "      <td>268</td>\n",
       "    </tr>\n",
       "  </tbody>\n",
       "</table>\n",
       "<p>240 rows × 3 columns</p>\n",
       "</div>"
      ],
      "text/plain": [
       "      segment  level_number  time\n",
       "0    Cohort A             1   180\n",
       "1    Cohort B             1   185\n",
       "2    Cohort A             2   180\n",
       "3    Cohort B             2   180\n",
       "4    Cohort A             3   205\n",
       "..        ...           ...   ...\n",
       "235  Cohort B           118   323\n",
       "236  Cohort A           119   273\n",
       "237  Cohort B           119   282\n",
       "238  Cohort A           120   300\n",
       "239  Cohort B           120   268\n",
       "\n",
       "[240 rows x 3 columns]"
      ]
     },
     "execution_count": 22,
     "metadata": {},
     "output_type": "execute_result"
    }
   ],
   "source": [
    "time"
   ]
  },
  {
   "cell_type": "code",
   "execution_count": 23,
   "metadata": {},
   "outputs": [],
   "source": [
    "data = reduce(lambda  left,right: pd.merge(left,right), dataframes)"
   ]
  },
  {
   "cell_type": "code",
   "execution_count": 24,
   "metadata": {},
   "outputs": [
    {
     "data": {
      "text/html": [
       "<div>\n",
       "<style scoped>\n",
       "    .dataframe tbody tr th:only-of-type {\n",
       "        vertical-align: middle;\n",
       "    }\n",
       "\n",
       "    .dataframe tbody tr th {\n",
       "        vertical-align: top;\n",
       "    }\n",
       "\n",
       "    .dataframe thead th {\n",
       "        text-align: right;\n",
       "    }\n",
       "</style>\n",
       "<table border=\"1\" class=\"dataframe\">\n",
       "  <thead>\n",
       "    <tr style=\"text-align: right;\">\n",
       "      <th></th>\n",
       "      <th>segment</th>\n",
       "      <th>level_number</th>\n",
       "      <th>unique_a</th>\n",
       "      <th>totals_a</th>\n",
       "      <th>totals_b</th>\n",
       "      <th>totals_c</th>\n",
       "      <th>totals_d</th>\n",
       "      <th>time</th>\n",
       "    </tr>\n",
       "  </thead>\n",
       "  <tbody>\n",
       "    <tr>\n",
       "      <th>0</th>\n",
       "      <td>Cohort A</td>\n",
       "      <td>1</td>\n",
       "      <td>5057</td>\n",
       "      <td>5131</td>\n",
       "      <td>4902</td>\n",
       "      <td>0</td>\n",
       "      <td>464</td>\n",
       "      <td>180</td>\n",
       "    </tr>\n",
       "    <tr>\n",
       "      <th>1</th>\n",
       "      <td>Cohort B</td>\n",
       "      <td>1</td>\n",
       "      <td>5196</td>\n",
       "      <td>5272</td>\n",
       "      <td>4995</td>\n",
       "      <td>0</td>\n",
       "      <td>493</td>\n",
       "      <td>185</td>\n",
       "    </tr>\n",
       "    <tr>\n",
       "      <th>2</th>\n",
       "      <td>Cohort A</td>\n",
       "      <td>2</td>\n",
       "      <td>4724</td>\n",
       "      <td>4759</td>\n",
       "      <td>4600</td>\n",
       "      <td>12</td>\n",
       "      <td>147</td>\n",
       "      <td>180</td>\n",
       "    </tr>\n",
       "    <tr>\n",
       "      <th>3</th>\n",
       "      <td>Cohort B</td>\n",
       "      <td>2</td>\n",
       "      <td>4801</td>\n",
       "      <td>4845</td>\n",
       "      <td>4629</td>\n",
       "      <td>13</td>\n",
       "      <td>157</td>\n",
       "      <td>180</td>\n",
       "    </tr>\n",
       "    <tr>\n",
       "      <th>4</th>\n",
       "      <td>Cohort A</td>\n",
       "      <td>3</td>\n",
       "      <td>4363</td>\n",
       "      <td>4464</td>\n",
       "      <td>4175</td>\n",
       "      <td>72</td>\n",
       "      <td>223</td>\n",
       "      <td>205</td>\n",
       "    </tr>\n",
       "    <tr>\n",
       "      <th>...</th>\n",
       "      <td>...</td>\n",
       "      <td>...</td>\n",
       "      <td>...</td>\n",
       "      <td>...</td>\n",
       "      <td>...</td>\n",
       "      <td>...</td>\n",
       "      <td>...</td>\n",
       "      <td>...</td>\n",
       "    </tr>\n",
       "    <tr>\n",
       "      <th>235</th>\n",
       "      <td>Cohort B</td>\n",
       "      <td>118</td>\n",
       "      <td>316</td>\n",
       "      <td>562</td>\n",
       "      <td>317</td>\n",
       "      <td>222</td>\n",
       "      <td>64</td>\n",
       "      <td>323</td>\n",
       "    </tr>\n",
       "    <tr>\n",
       "      <th>236</th>\n",
       "      <td>Cohort A</td>\n",
       "      <td>119</td>\n",
       "      <td>319</td>\n",
       "      <td>754</td>\n",
       "      <td>318</td>\n",
       "      <td>401</td>\n",
       "      <td>100</td>\n",
       "      <td>273</td>\n",
       "    </tr>\n",
       "    <tr>\n",
       "      <th>237</th>\n",
       "      <td>Cohort B</td>\n",
       "      <td>119</td>\n",
       "      <td>313</td>\n",
       "      <td>607</td>\n",
       "      <td>313</td>\n",
       "      <td>258</td>\n",
       "      <td>99</td>\n",
       "      <td>282</td>\n",
       "    </tr>\n",
       "    <tr>\n",
       "      <th>238</th>\n",
       "      <td>Cohort A</td>\n",
       "      <td>120</td>\n",
       "      <td>315</td>\n",
       "      <td>445</td>\n",
       "      <td>316</td>\n",
       "      <td>94</td>\n",
       "      <td>58</td>\n",
       "      <td>300</td>\n",
       "    </tr>\n",
       "    <tr>\n",
       "      <th>239</th>\n",
       "      <td>Cohort B</td>\n",
       "      <td>120</td>\n",
       "      <td>311</td>\n",
       "      <td>1018</td>\n",
       "      <td>308</td>\n",
       "      <td>641</td>\n",
       "      <td>136</td>\n",
       "      <td>268</td>\n",
       "    </tr>\n",
       "  </tbody>\n",
       "</table>\n",
       "<p>240 rows × 8 columns</p>\n",
       "</div>"
      ],
      "text/plain": [
       "      segment  level_number  unique_a  totals_a  totals_b  totals_c  totals_d  \\\n",
       "0    Cohort A             1      5057      5131      4902         0       464   \n",
       "1    Cohort B             1      5196      5272      4995         0       493   \n",
       "2    Cohort A             2      4724      4759      4600        12       147   \n",
       "3    Cohort B             2      4801      4845      4629        13       157   \n",
       "4    Cohort A             3      4363      4464      4175        72       223   \n",
       "..        ...           ...       ...       ...       ...       ...       ...   \n",
       "235  Cohort B           118       316       562       317       222        64   \n",
       "236  Cohort A           119       319       754       318       401       100   \n",
       "237  Cohort B           119       313       607       313       258        99   \n",
       "238  Cohort A           120       315       445       316        94        58   \n",
       "239  Cohort B           120       311      1018       308       641       136   \n",
       "\n",
       "     time  \n",
       "0     180  \n",
       "1     185  \n",
       "2     180  \n",
       "3     180  \n",
       "4     205  \n",
       "..    ...  \n",
       "235   323  \n",
       "236   273  \n",
       "237   282  \n",
       "238   300  \n",
       "239   268  \n",
       "\n",
       "[240 rows x 8 columns]"
      ]
     },
     "execution_count": 24,
     "metadata": {},
     "output_type": "execute_result"
    }
   ],
   "source": [
    "data"
   ]
  },
  {
   "cell_type": "code",
   "execution_count": 25,
   "metadata": {},
   "outputs": [],
   "source": [
    "data.to_excel(\"data.xlsx\")  "
   ]
  },
  {
   "cell_type": "markdown",
   "metadata": {},
   "source": [
    "### 1.2 Для каждого уровня в обеих когортах посчитаю процент отвала игроков"
   ]
  },
  {
   "cell_type": "code",
   "execution_count": 26,
   "metadata": {},
   "outputs": [],
   "source": [
    "data_A = (data[data['segment'] == 'Cohort A']).reset_index(drop=True)\n",
    "data_B = (data[data['segment'] == 'Cohort B']).reset_index(drop=True)"
   ]
  },
  {
   "cell_type": "code",
   "execution_count": 27,
   "metadata": {},
   "outputs": [],
   "source": [
    "churn_rate_A = np.zeros(120)\n",
    "churn_rate_B = np.zeros(120)\n",
    "\n",
    "# показывает отток на следующем уровне\n",
    "for i in range(119):\n",
    "    churn_rate_A[i] = np.round((data_A.unique_a[i] - data_A.unique_a[i+1]) / data_A.unique_a[i] * 100, 2) \n",
    "    churn_rate_B[i] = np.round((data_B.unique_a[i] - data_B.unique_a[i+1]) / data_B.unique_a[i] * 100, 2)\n",
    "\n",
    "data_A['churn_rate'] = churn_rate_A\n",
    "data_B['churn_rate'] = churn_rate_B"
   ]
  },
  {
   "cell_type": "code",
   "execution_count": 28,
   "metadata": {},
   "outputs": [
    {
     "data": {
      "text/plain": [
       "array([ 6.58,  7.64, 10.04,  8.54,  7.1 ,  4.35,  6.11,  7.05,  6.39,\n",
       "        7.37,  2.98,  4.06,  4.76,  3.36,  6.91,  2.13,  1.96,  2.87,\n",
       "        4.74,  5.27,  1.91,  1.39,  1.28,  1.29,  2.36,  1.88,  3.21,\n",
       "        3.89,  3.75,  5.5 ,  0.89,  3.59,  0.51,  2.21,  1.74,  0.71,\n",
       "        0.98,  1.62,  1.46,  1.95,  1.52,  1.54,  1.86,  1.09,  1.31,\n",
       "        3.16,  2.63,  1.51,  1.21,  1.56,  0.68,  2.27,  1.63,  3.78,\n",
       "        1.11,  1.49,  1.77,  1.28,  1.17,  3.29,  1.22,  0.55,  2.49,\n",
       "        0.71,  2.58,  0.73,  0.89,  2.39,  4.59,  2.56,  2.14,  1.51,\n",
       "        1.02,  1.03,  1.57,  1.24,  2.69,  0.74,  0.74,  1.5 ,  0.95,\n",
       "        1.72,  1.56,  1.58,  2.21,  1.23,  0.21,  2.51,  2.57,  0.66,\n",
       "        1.99,  1.35,  2.06,  1.4 ,  0.71,  0.72,  1.92,  2.21,  1.  ,\n",
       "        1.27,  1.03,  1.3 ,  2.36,  0.81,  1.08,  0.82,  0.83,  0.28,\n",
       "        2.23,  0.86,  0.58,  0.29,  1.74,  0.59,  1.19,  0.9 ,  0.61,\n",
       "        2.45,  1.25,  0.  ])"
      ]
     },
     "execution_count": 28,
     "metadata": {},
     "output_type": "execute_result"
    }
   ],
   "source": [
    "churn_rate_A"
   ]
  },
  {
   "cell_type": "code",
   "execution_count": 29,
   "metadata": {},
   "outputs": [
    {
     "data": {
      "text/plain": [
       "Text(0, 0.5, 'churn_rate')"
      ]
     },
     "execution_count": 29,
     "metadata": {},
     "output_type": "execute_result"
    },
    {
     "data": {
      "image/png": "[encoded data removed]",
      "text/plain": [
       "<Figure size 1440x595.44 with 1 Axes>"
      ]
     },
     "metadata": {},
     "output_type": "display_data"
    }
   ],
   "source": [
    "plt.plot(np.array(data_A.level_number), churn_rate_A, label='Cohort A')\n",
    "plt.plot(np.array(data_B.level_number), churn_rate_B, label='Cohort B', c='r')\n",
    "plt.legend(loc='upper right')\n",
    "plt.xlabel('level')\n",
    "plt.ylabel('churn_rate')"
   ]
  },
  {
   "cell_type": "markdown",
   "metadata": {},
   "source": [
    "### 1.3 Какие еще сведения способные улучшить игру можно получить из этих данных?"
   ]
  },
  {
   "cell_type": "markdown",
   "metadata": {},
   "source": [
    "#### Можно пытаться отлавливать большую разницу отвала на отдельных уровнях и исходя из нее выбирать более правильный баланс на конкретном уровне:"
   ]
  },
  {
   "cell_type": "code",
   "execution_count": 30,
   "metadata": {},
   "outputs": [],
   "source": [
    "levels_churn = []\n",
    "for i in range(120):\n",
    "    if np.abs(churn_rate_A[i] - churn_rate_B[i]) > 2.5:\n",
    "        levels_churn.append(i+1)"
   ]
  },
  {
   "cell_type": "code",
   "execution_count": 31,
   "metadata": {},
   "outputs": [
    {
     "data": {
      "text/plain": [
       "[69, 89, 114]"
      ]
     },
     "execution_count": 31,
     "metadata": {},
     "output_type": "execute_result"
    }
   ],
   "source": [
    "levels_churn"
   ]
  },
  {
   "cell_type": "markdown",
   "metadata": {},
   "source": [
    "#### Можно обратить внимание на разницу числа проигрышей. Если она большая, можно полагать, что уровень в одной из когорт стал слишком сложным/легким, и если человек не фанат Dark Souls/Веселой фермы, он может психануть/заскучать и удалить игру."
   ]
  },
  {
   "cell_type": "code",
   "execution_count": 32,
   "metadata": {},
   "outputs": [],
   "source": [
    "levels_losed = []\n",
    "for i in range(120):\n",
    "    if np.abs(data_A.totals_c[i] - data_B.totals_c[i]) > 500:\n",
    "        levels_losed.append(i+1)"
   ]
  },
  {
   "cell_type": "code",
   "execution_count": 33,
   "metadata": {},
   "outputs": [
    {
     "data": {
      "text/plain": [
       "[28, 32, 61, 66, 82, 110, 120]"
      ]
     },
     "execution_count": 33,
     "metadata": {},
     "output_type": "execute_result"
    }
   ],
   "source": [
    "levels_losed"
   ]
  },
  {
   "cell_type": "markdown",
   "metadata": {},
   "source": [
    "#### То же самое можно сделать со временем, затрачиваемым на уровень"
   ]
  },
  {
   "cell_type": "markdown",
   "metadata": {},
   "source": [
    "### 1.4 Какая из версий балансов уровней перспективней?"
   ]
  },
  {
   "cell_type": "markdown",
   "metadata": {},
   "source": [
    "#### Я погуглил, как можно сравнивать оттоки для двух когорт, чтобы сделать сомнительный вывод, на какой когорте лучше результат, но как-то все безуспешно. Поэтому я не придумал ничего лучше, чем их сложить. С этой точки зрения баланс в когорте А чуть лучше."
   ]
  },
  {
   "cell_type": "code",
   "execution_count": 34,
   "metadata": {},
   "outputs": [
    {
     "data": {
      "text/plain": [
       "272.11"
      ]
     },
     "execution_count": 34,
     "metadata": {},
     "output_type": "execute_result"
    }
   ],
   "source": [
    "churn_rate_A.sum()"
   ]
  },
  {
   "cell_type": "code",
   "execution_count": 35,
   "metadata": {},
   "outputs": [
    {
     "data": {
      "text/plain": [
       "275.68"
      ]
     },
     "execution_count": 35,
     "metadata": {},
     "output_type": "execute_result"
    }
   ],
   "source": [
    "churn_rate_B.sum()"
   ]
  },
  {
   "cell_type": "code",
   "execution_count": 36,
   "metadata": {},
   "outputs": [
    {
     "data": {
      "text/plain": [
       "Text(0, 0.5, 'normed amount of unique players')"
      ]
     },
     "execution_count": 36,
     "metadata": {},
     "output_type": "execute_result"
    },
    {
     "data": {
      "image/png": "[encoded data removed]",
      "text/plain": [
       "<Figure size 1440x595.44 with 1 Axes>"
      ]
     },
     "metadata": {},
     "output_type": "display_data"
    }
   ],
   "source": [
    "plt.plot(data_A.level_number[61:], data_A.unique_a[61:] / 5057, label='Cohort A')\n",
    "plt.plot(data_B.level_number[61:], data_B.unique_a[61:] / 5196, label='Cohort B', c='r')\n",
    "plt.legend(loc='upper right')\n",
    "plt.xlabel('level number')\n",
    "plt.ylabel('normed amount of unique players')"
   ]
  },
  {
   "cell_type": "code",
   "execution_count": 37,
   "metadata": {},
   "outputs": [
    {
     "data": {
      "text/plain": [
       "6.23"
      ]
     },
     "execution_count": 37,
     "metadata": {},
     "output_type": "execute_result"
    }
   ],
   "source": [
    "round(data_A.unique_a[119] / data_A.unique_a[0] * 100, 2)"
   ]
  },
  {
   "cell_type": "code",
   "execution_count": 38,
   "metadata": {},
   "outputs": [
    {
     "data": {
      "text/plain": [
       "5.99"
      ]
     },
     "execution_count": 38,
     "metadata": {},
     "output_type": "execute_result"
    }
   ],
   "source": [
    "round(data_B.unique_a[119] / data_B.unique_a[0] * 100, 2)"
   ]
  },
  {
   "cell_type": "markdown",
   "metadata": {},
   "source": [
    "#### Больший процент людей остался в когорте А, что тоже говорит в ее пользу, так что буду считать, что она лучшая"
   ]
  },
  {
   "cell_type": "markdown",
   "metadata": {},
   "source": [
    "### 2.1 Основываясь на данных из таблицы, спрогнозирую для лучшей когорты, какой процент пользователей дойдет до 240, 360, 480, 600 уровня."
   ]
  },
  {
   "cell_type": "code",
   "execution_count": 39,
   "metadata": {},
   "outputs": [
    {
     "data": {
      "text/plain": [
       "Text(0, 0.5, 'percent')"
      ]
     },
     "execution_count": 39,
     "metadata": {},
     "output_type": "execute_result"
    },
    {
     "data": {
      "image/png": "[encoded data removed]",
      "text/plain": [
       "<Figure size 1440x595.44 with 1 Axes>"
      ]
     },
     "metadata": {},
     "output_type": "display_data"
    }
   ],
   "source": [
    "plt.scatter(data_A.level_number, data_A.unique_a / 5057 * 100)\n",
    "plt.xlabel('day number')\n",
    "plt.ylabel('percent')"
   ]
  },
  {
   "cell_type": "markdown",
   "metadata": {},
   "source": [
    "#### Видно, что зависимость экспоненциальная, поэтому буду приближать ее экспонентой. Т.к. интересуют прогнозы на высоких уровнях, буду обучать и тестировать модель только на второй половине уровней."
   ]
  },
  {
   "cell_type": "markdown",
   "metadata": {},
   "source": [
    "$ y = A \\times \\exp(B \\times x)$\n",
    "\n",
    "$ \\ln(y) = \\ln(A) + Bx $\n",
    "\n",
    "#### То есть после такой линеаризации можно использовать линейную регрессию, а потом взять экспоненту от предсказаний.\n",
    "\n",
    "####  Подробнее об этом: https://stackoverflow.com/questions/3433486/how-to-do-exponential-and-logarithmic-curve-fitting-in-python-i-found-only-poly"
   ]
  },
  {
   "cell_type": "code",
   "execution_count": 40,
   "metadata": {},
   "outputs": [],
   "source": [
    "from sklearn.linear_model import LinearRegression"
   ]
  },
  {
   "cell_type": "code",
   "execution_count": 41,
   "metadata": {},
   "outputs": [],
   "source": [
    "x_train = np.array(data_A.level_number)[60:100]\n",
    "y_train = np.array(data_A.unique_a / 5057 * 100)[60:100]\n",
    "\n",
    "x_test = np.array(data_A.level_number)[100:]\n",
    "y_test = np.array(data_A.unique_a / 5057 * 100)[100:]"
   ]
  },
  {
   "cell_type": "code",
   "execution_count": 42,
   "metadata": {},
   "outputs": [],
   "source": [
    "x_log_train = np.log(x_train).reshape(-1, 1)\n",
    "y_log_train = np.log(y_train)\n",
    "\n",
    "x_log_test = np.log(x_test).reshape(-1, 1)\n",
    "y_log_test = np.log(y_test)\n",
    "\n",
    "model = LinearRegression().fit(x_log_train, y_log_train)"
   ]
  },
  {
   "cell_type": "code",
   "execution_count": 43,
   "metadata": {},
   "outputs": [],
   "source": [
    "predictions = np.exp(model.predict(x_log_test))"
   ]
  },
  {
   "cell_type": "code",
   "execution_count": 44,
   "metadata": {},
   "outputs": [
    {
     "data": {
      "text/plain": [
       "<matplotlib.collections.PathCollection at 0x7fb5f919ad00>"
      ]
     },
     "execution_count": 44,
     "metadata": {},
     "output_type": "execute_result"
    },
    {
     "data": {
      "image/png": "[encoded data removed]",
      "text/plain": [
       "<Figure size 1440x595.44 with 1 Axes>"
      ]
     },
     "metadata": {},
     "output_type": "display_data"
    }
   ],
   "source": [
    "plt.scatter(x_test, y_test)\n",
    "plt.scatter(x_test, predictions)"
   ]
  },
  {
   "cell_type": "code",
   "execution_count": 45,
   "metadata": {},
   "outputs": [],
   "source": [
    "from sklearn.metrics import mean_absolute_percentage_error"
   ]
  },
  {
   "cell_type": "code",
   "execution_count": 46,
   "metadata": {},
   "outputs": [
    {
     "data": {
      "text/plain": [
       "0.008221463671075565"
      ]
     },
     "execution_count": 46,
     "metadata": {},
     "output_type": "execute_result"
    }
   ],
   "source": [
    "mean_absolute_percentage_error(y_test, predictions)"
   ]
  },
  {
   "cell_type": "markdown",
   "metadata": {},
   "source": [
    "#### Чтобы у проверяющих не дай бог не создалось впечатления, что я кроме линейной регрессии и о трюках с признаками ничего не слышал, попытаюсь объяснить, почему другие модели из классического ml не подходят\n",
    "\n",
    "#### Классическое ml в моей картине мира делится на две части: линейные модели и деревяшки или их ансамбли. Деревья нельзя использовать, т.к. мы прогнозируем ответ на объектах, значения признака которых не входят в отрезок значений признака объектов, участвующих в обучении, т.е. мы экстраполируем неизвестную зависимость. Из алгоритма построения дерева ясно, что это плохо, т.к. вне отрезка разбиение закончится и там будет выдаваться константный прогноз. По тем же причинам нельзя использовать беггинг и бустинг.\n",
    "\n",
    "#### Ну а регуляризацию я не проводил, т.к. переобучением тут явно не пахнет.\n",
    "\n",
    "#### Возможно,  сетки смогли бы дать результат, но я на данный момент ими не владею :("
   ]
  },
  {
   "cell_type": "markdown",
   "metadata": {},
   "source": [
    "#### Проверку на адекватность проходит, буду использовать эту модель(за кадром попробовал приблизить логарифмом, но вышло хуже"
   ]
  },
  {
   "cell_type": "markdown",
   "metadata": {},
   "source": [
    "#### Теперь обучу эту же модель, но уже на всей второй половине данных, и сделаю предсказания"
   ]
  },
  {
   "cell_type": "code",
   "execution_count": 47,
   "metadata": {},
   "outputs": [],
   "source": [
    "x = np.array(data_A.level_number)[60:]\n",
    "y = np.array(data_A.unique_a / 5057 * 100)[60:]\n",
    "x_log = np.log(x).reshape(-1, 1)\n",
    "y_log = np.log(y)\n",
    "model = LinearRegression().fit(x_log, y_log)"
   ]
  },
  {
   "cell_type": "code",
   "execution_count": 48,
   "metadata": {},
   "outputs": [
    {
     "data": {
      "text/plain": [
       "array([2.56494974, 1.52529666, 1.05487308, 0.79245577])"
      ]
     },
     "execution_count": 48,
     "metadata": {},
     "output_type": "execute_result"
    }
   ],
   "source": [
    "new_levels_log = np.log(np.array([240, 360, 480, 600]).reshape(-1, 1))\n",
    "predictions_new = np.exp(model.predict(new_levels_log))\n",
    "predictions_new"
   ]
  },
  {
   "cell_type": "markdown",
   "metadata": {},
   "source": [
    "### 2.2 Сколько в среднем уровней на данный момент приходится на пользователя? Спрогнозирую, сколько уровней приходилось бы на пользователя в среднем, если бы в игре было 240,360,480,600 уровней"
   ]
  },
  {
   "cell_type": "code",
   "execution_count": 49,
   "metadata": {},
   "outputs": [
    {
     "data": {
      "text/html": [
       "<div>\n",
       "<style scoped>\n",
       "    .dataframe tbody tr th:only-of-type {\n",
       "        vertical-align: middle;\n",
       "    }\n",
       "\n",
       "    .dataframe tbody tr th {\n",
       "        vertical-align: top;\n",
       "    }\n",
       "\n",
       "    .dataframe thead th {\n",
       "        text-align: right;\n",
       "    }\n",
       "</style>\n",
       "<table border=\"1\" class=\"dataframe\">\n",
       "  <thead>\n",
       "    <tr style=\"text-align: right;\">\n",
       "      <th></th>\n",
       "      <th>segment</th>\n",
       "      <th>level_number</th>\n",
       "      <th>unique_a</th>\n",
       "      <th>totals_a</th>\n",
       "      <th>totals_b</th>\n",
       "      <th>totals_c</th>\n",
       "      <th>totals_d</th>\n",
       "      <th>time</th>\n",
       "      <th>churn_rate</th>\n",
       "    </tr>\n",
       "  </thead>\n",
       "  <tbody>\n",
       "    <tr>\n",
       "      <th>0</th>\n",
       "      <td>Cohort A</td>\n",
       "      <td>1</td>\n",
       "      <td>5057</td>\n",
       "      <td>5131</td>\n",
       "      <td>4902</td>\n",
       "      <td>0</td>\n",
       "      <td>464</td>\n",
       "      <td>180</td>\n",
       "      <td>6.58</td>\n",
       "    </tr>\n",
       "    <tr>\n",
       "      <th>1</th>\n",
       "      <td>Cohort A</td>\n",
       "      <td>2</td>\n",
       "      <td>4724</td>\n",
       "      <td>4759</td>\n",
       "      <td>4600</td>\n",
       "      <td>12</td>\n",
       "      <td>147</td>\n",
       "      <td>180</td>\n",
       "      <td>7.64</td>\n",
       "    </tr>\n",
       "    <tr>\n",
       "      <th>2</th>\n",
       "      <td>Cohort A</td>\n",
       "      <td>3</td>\n",
       "      <td>4363</td>\n",
       "      <td>4464</td>\n",
       "      <td>4175</td>\n",
       "      <td>72</td>\n",
       "      <td>223</td>\n",
       "      <td>205</td>\n",
       "      <td>10.04</td>\n",
       "    </tr>\n",
       "    <tr>\n",
       "      <th>3</th>\n",
       "      <td>Cohort A</td>\n",
       "      <td>4</td>\n",
       "      <td>3925</td>\n",
       "      <td>4011</td>\n",
       "      <td>3851</td>\n",
       "      <td>58</td>\n",
       "      <td>189</td>\n",
       "      <td>250</td>\n",
       "      <td>8.54</td>\n",
       "    </tr>\n",
       "    <tr>\n",
       "      <th>4</th>\n",
       "      <td>Cohort A</td>\n",
       "      <td>5</td>\n",
       "      <td>3590</td>\n",
       "      <td>3739</td>\n",
       "      <td>3480</td>\n",
       "      <td>106</td>\n",
       "      <td>277</td>\n",
       "      <td>210</td>\n",
       "      <td>7.10</td>\n",
       "    </tr>\n",
       "    <tr>\n",
       "      <th>...</th>\n",
       "      <td>...</td>\n",
       "      <td>...</td>\n",
       "      <td>...</td>\n",
       "      <td>...</td>\n",
       "      <td>...</td>\n",
       "      <td>...</td>\n",
       "      <td>...</td>\n",
       "      <td>...</td>\n",
       "      <td>...</td>\n",
       "    </tr>\n",
       "    <tr>\n",
       "      <th>115</th>\n",
       "      <td>Cohort A</td>\n",
       "      <td>116</td>\n",
       "      <td>332</td>\n",
       "      <td>429</td>\n",
       "      <td>332</td>\n",
       "      <td>89</td>\n",
       "      <td>31</td>\n",
       "      <td>274</td>\n",
       "      <td>0.90</td>\n",
       "    </tr>\n",
       "    <tr>\n",
       "      <th>116</th>\n",
       "      <td>Cohort A</td>\n",
       "      <td>117</td>\n",
       "      <td>329</td>\n",
       "      <td>628</td>\n",
       "      <td>329</td>\n",
       "      <td>274</td>\n",
       "      <td>83</td>\n",
       "      <td>300</td>\n",
       "      <td>0.61</td>\n",
       "    </tr>\n",
       "    <tr>\n",
       "      <th>117</th>\n",
       "      <td>Cohort A</td>\n",
       "      <td>118</td>\n",
       "      <td>327</td>\n",
       "      <td>654</td>\n",
       "      <td>327</td>\n",
       "      <td>296</td>\n",
       "      <td>95</td>\n",
       "      <td>317</td>\n",
       "      <td>2.45</td>\n",
       "    </tr>\n",
       "    <tr>\n",
       "      <th>118</th>\n",
       "      <td>Cohort A</td>\n",
       "      <td>119</td>\n",
       "      <td>319</td>\n",
       "      <td>754</td>\n",
       "      <td>318</td>\n",
       "      <td>401</td>\n",
       "      <td>100</td>\n",
       "      <td>273</td>\n",
       "      <td>1.25</td>\n",
       "    </tr>\n",
       "    <tr>\n",
       "      <th>119</th>\n",
       "      <td>Cohort A</td>\n",
       "      <td>120</td>\n",
       "      <td>315</td>\n",
       "      <td>445</td>\n",
       "      <td>316</td>\n",
       "      <td>94</td>\n",
       "      <td>58</td>\n",
       "      <td>300</td>\n",
       "      <td>0.00</td>\n",
       "    </tr>\n",
       "  </tbody>\n",
       "</table>\n",
       "<p>120 rows × 9 columns</p>\n",
       "</div>"
      ],
      "text/plain": [
       "      segment  level_number  unique_a  totals_a  totals_b  totals_c  totals_d  \\\n",
       "0    Cohort A             1      5057      5131      4902         0       464   \n",
       "1    Cohort A             2      4724      4759      4600        12       147   \n",
       "2    Cohort A             3      4363      4464      4175        72       223   \n",
       "3    Cohort A             4      3925      4011      3851        58       189   \n",
       "4    Cohort A             5      3590      3739      3480       106       277   \n",
       "..        ...           ...       ...       ...       ...       ...       ...   \n",
       "115  Cohort A           116       332       429       332        89        31   \n",
       "116  Cohort A           117       329       628       329       274        83   \n",
       "117  Cohort A           118       327       654       327       296        95   \n",
       "118  Cohort A           119       319       754       318       401       100   \n",
       "119  Cohort A           120       315       445       316        94        58   \n",
       "\n",
       "     time  churn_rate  \n",
       "0     180        6.58  \n",
       "1     180        7.64  \n",
       "2     205       10.04  \n",
       "3     250        8.54  \n",
       "4     210        7.10  \n",
       "..    ...         ...  \n",
       "115   274        0.90  \n",
       "116   300        0.61  \n",
       "117   317        2.45  \n",
       "118   273        1.25  \n",
       "119   300        0.00  \n",
       "\n",
       "[120 rows x 9 columns]"
      ]
     },
     "execution_count": 49,
     "metadata": {},
     "output_type": "execute_result"
    }
   ],
   "source": [
    "data_A "
   ]
  },
  {
   "cell_type": "markdown",
   "metadata": {},
   "source": [
    "#### Посчитаем, сколько уникальных игроков стартовали ровно 1 уровень, ровно 2 уровня, ... , ровно 120 уровней"
   ]
  },
  {
   "cell_type": "code",
   "execution_count": 50,
   "metadata": {},
   "outputs": [],
   "source": [
    "def level_players(unique):\n",
    "    players = np.zeros(120)\n",
    "    for i in range(119):\n",
    "        players[i] = unique[i] - unique[i+1]\n",
    "    players[119] = unique[119]\n",
    "    return players"
   ]
  },
  {
   "cell_type": "markdown",
   "metadata": {},
   "source": [
    "#### Перемножаем количества этих игроков на количество уровней, которые они прошли, все это суммируем и делим на общее количество людей"
   ]
  },
  {
   "cell_type": "code",
   "execution_count": 51,
   "metadata": {},
   "outputs": [],
   "source": [
    "def calculate_lifetime(players, number_of_levels):\n",
    "    lifetime = (players * np.arange(1, number_of_levels+1)).sum() / 5057\n",
    "    return lifetime"
   ]
  },
  {
   "cell_type": "code",
   "execution_count": 52,
   "metadata": {},
   "outputs": [],
   "source": [
    "players120 = level_players(np.array(data_A['unique_a']))\n",
    "lifetime120 = calculate_lifetime(players120, 120)"
   ]
  },
  {
   "cell_type": "code",
   "execution_count": 53,
   "metadata": {},
   "outputs": [
    {
     "data": {
      "text/plain": [
       "25.716828158987543"
      ]
     },
     "execution_count": 53,
     "metadata": {},
     "output_type": "execute_result"
    }
   ],
   "source": [
    "lifetime120"
   ]
  },
  {
   "cell_type": "code",
   "execution_count": null,
   "metadata": {},
   "outputs": [],
   "source": []
  },
  {
   "cell_type": "code",
   "execution_count": 54,
   "metadata": {},
   "outputs": [],
   "source": [
    "levels_240 = np.arange(121, 241)\n",
    "levels_360 = np.arange(121, 361)\n",
    "levels_480 = np.arange(121, 481)\n",
    "levels_600 = np.arange(121, 601)"
   ]
  },
  {
   "cell_type": "markdown",
   "metadata": {},
   "source": [
    "#### Получим прогнозы количества уникальных пользователей на новых уровнях и склеим с количеством пользователей на старых"
   ]
  },
  {
   "cell_type": "code",
   "execution_count": 55,
   "metadata": {},
   "outputs": [],
   "source": [
    "def predict_and_concat(levels):\n",
    "    percent = np.exp(model.predict(np.log(levels.reshape(-1, 1))))\n",
    "    unique = percent * 5057 // 100\n",
    "    return np.concatenate((np.array(data_A.unique_a), unique))"
   ]
  },
  {
   "cell_type": "markdown",
   "metadata": {},
   "source": [
    "#### Посчитаем, сколько уникальных игроков стартовали ровно 1 уровень, ровно 2 уровня, ... , ровно number_of_levels уровней"
   ]
  },
  {
   "cell_type": "code",
   "execution_count": 56,
   "metadata": {},
   "outputs": [],
   "source": [
    "def level_players(unique, number_of_levels):\n",
    "    players = np.zeros(number_of_levels)\n",
    "    for i in range(number_of_levels-1):\n",
    "        players[i] = unique[i] - unique[i+1]\n",
    "    players[number_of_levels-1] = unique[number_of_levels-1]\n",
    "    return players"
   ]
  },
  {
   "cell_type": "code",
   "execution_count": 57,
   "metadata": {},
   "outputs": [],
   "source": [
    "unique_240 = predict_and_concat(levels_240)\n",
    "unique_360 = predict_and_concat(levels_360)\n",
    "unique_480 = predict_and_concat(levels_480)\n",
    "unique_600 = predict_and_concat(levels_600)"
   ]
  },
  {
   "cell_type": "code",
   "execution_count": 58,
   "metadata": {},
   "outputs": [],
   "source": [
    "players_240 = level_players(unique_240, 240)\n",
    "players_360 = level_players(unique_360, 360)\n",
    "players_480 = level_players(unique_480, 480)\n",
    "players_600 = level_players(unique_600, 600)"
   ]
  },
  {
   "cell_type": "code",
   "execution_count": 59,
   "metadata": {},
   "outputs": [],
   "source": [
    "lifetime_240 = calculate_lifetime(players_240, 240)\n",
    "lifetime_360 = calculate_lifetime(players_360, 360)\n",
    "lifetime_480 = calculate_lifetime(players_480, 480)\n",
    "lifetime_600 = calculate_lifetime(players_600, 600)"
   ]
  },
  {
   "cell_type": "code",
   "execution_count": 60,
   "metadata": {},
   "outputs": [
    {
     "data": {
      "text/plain": [
       "30.398062092149495"
      ]
     },
     "execution_count": 60,
     "metadata": {},
     "output_type": "execute_result"
    }
   ],
   "source": [
    "lifetime_240"
   ]
  },
  {
   "cell_type": "code",
   "execution_count": 61,
   "metadata": {},
   "outputs": [
    {
     "data": {
      "text/plain": [
       "32.73937116867708"
      ]
     },
     "execution_count": 61,
     "metadata": {},
     "output_type": "execute_result"
    }
   ],
   "source": [
    "lifetime_360"
   ]
  },
  {
   "cell_type": "code",
   "execution_count": 62,
   "metadata": {},
   "outputs": [
    {
     "data": {
      "text/plain": [
       "34.242040735614"
      ]
     },
     "execution_count": 62,
     "metadata": {},
     "output_type": "execute_result"
    }
   ],
   "source": [
    "lifetime_480"
   ]
  },
  {
   "cell_type": "code",
   "execution_count": 63,
   "metadata": {},
   "outputs": [
    {
     "data": {
      "text/plain": [
       "35.32390745501285"
      ]
     },
     "execution_count": 63,
     "metadata": {},
     "output_type": "execute_result"
    }
   ],
   "source": [
    "lifetime_600"
   ]
  }
 ],
 "metadata": {
  "kernelspec": {
   "display_name": "Python 3",
   "language": "python",
   "name": "python3"
  },
  "language_info": {
   "codemirror_mode": {
    "name": "ipython",
    "version": 3
   },
   "file_extension": ".py",
   "mimetype": "text/x-python",
   "name": "python",
   "nbconvert_exporter": "python",
   "pygments_lexer": "ipython3",
   "version": "3.8.8"
  }
 },
 "nbformat": 4,
 "nbformat_minor": 4
}
